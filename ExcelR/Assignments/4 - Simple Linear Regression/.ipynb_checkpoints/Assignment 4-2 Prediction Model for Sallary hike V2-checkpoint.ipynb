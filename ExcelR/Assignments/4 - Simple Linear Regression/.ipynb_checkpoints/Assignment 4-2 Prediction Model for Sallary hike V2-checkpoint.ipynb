{
 "cells": [
  {
   "cell_type": "markdown",
   "id": "16bb0719",
   "metadata": {},
   "source": [
    "# Assignment 4 Question 2\n",
    "## Salary_hike -> Build a prediction model for Salary_hike"
   ]
  },
  {
   "cell_type": "code",
   "execution_count": 1,
   "id": "d206f8e8",
   "metadata": {},
   "outputs": [],
   "source": [
    "import pandas as pd\n",
    "import seaborn as sns\n",
    "import numpy as np\n",
    "import matplotlib.pyplot as plt\n",
    "%matplotlib inline\n",
    "import statsmodels.formula.api as smf"
   ]
  },
  {
   "cell_type": "code",
   "execution_count": 2,
   "id": "f5687b89",
   "metadata": {},
   "outputs": [
    {
     "data": {
      "text/html": [
       "<div>\n",
       "<style scoped>\n",
       "    .dataframe tbody tr th:only-of-type {\n",
       "        vertical-align: middle;\n",
       "    }\n",
       "\n",
       "    .dataframe tbody tr th {\n",
       "        vertical-align: top;\n",
       "    }\n",
       "\n",
       "    .dataframe thead th {\n",
       "        text-align: right;\n",
       "    }\n",
       "</style>\n",
       "<table border=\"1\" class=\"dataframe\">\n",
       "  <thead>\n",
       "    <tr style=\"text-align: right;\">\n",
       "      <th></th>\n",
       "      <th>YearsExperience</th>\n",
       "      <th>Salary</th>\n",
       "    </tr>\n",
       "  </thead>\n",
       "  <tbody>\n",
       "    <tr>\n",
       "      <th>0</th>\n",
       "      <td>1.1</td>\n",
       "      <td>39343.0</td>\n",
       "    </tr>\n",
       "    <tr>\n",
       "      <th>1</th>\n",
       "      <td>1.3</td>\n",
       "      <td>46205.0</td>\n",
       "    </tr>\n",
       "    <tr>\n",
       "      <th>2</th>\n",
       "      <td>1.5</td>\n",
       "      <td>37731.0</td>\n",
       "    </tr>\n",
       "    <tr>\n",
       "      <th>3</th>\n",
       "      <td>2.0</td>\n",
       "      <td>43525.0</td>\n",
       "    </tr>\n",
       "    <tr>\n",
       "      <th>4</th>\n",
       "      <td>2.2</td>\n",
       "      <td>39891.0</td>\n",
       "    </tr>\n",
       "  </tbody>\n",
       "</table>\n",
       "</div>"
      ],
      "text/plain": [
       "   YearsExperience   Salary\n",
       "0              1.1  39343.0\n",
       "1              1.3  46205.0\n",
       "2              1.5  37731.0\n",
       "3              2.0  43525.0\n",
       "4              2.2  39891.0"
      ]
     },
     "execution_count": 2,
     "metadata": {},
     "output_type": "execute_result"
    }
   ],
   "source": [
    "data = pd.read_csv('Salary_Data.csv')\n",
    "data.head()"
   ]
  },
  {
   "cell_type": "code",
   "execution_count": 3,
   "id": "b2b68a2d",
   "metadata": {},
   "outputs": [
    {
     "data": {
      "text/html": [
       "<div>\n",
       "<style scoped>\n",
       "    .dataframe tbody tr th:only-of-type {\n",
       "        vertical-align: middle;\n",
       "    }\n",
       "\n",
       "    .dataframe tbody tr th {\n",
       "        vertical-align: top;\n",
       "    }\n",
       "\n",
       "    .dataframe thead th {\n",
       "        text-align: right;\n",
       "    }\n",
       "</style>\n",
       "<table border=\"1\" class=\"dataframe\">\n",
       "  <thead>\n",
       "    <tr style=\"text-align: right;\">\n",
       "      <th></th>\n",
       "      <th>YOE</th>\n",
       "      <th>SAL</th>\n",
       "    </tr>\n",
       "  </thead>\n",
       "  <tbody>\n",
       "    <tr>\n",
       "      <th>0</th>\n",
       "      <td>1.1</td>\n",
       "      <td>39343.0</td>\n",
       "    </tr>\n",
       "    <tr>\n",
       "      <th>1</th>\n",
       "      <td>1.3</td>\n",
       "      <td>46205.0</td>\n",
       "    </tr>\n",
       "  </tbody>\n",
       "</table>\n",
       "</div>"
      ],
      "text/plain": [
       "   YOE      SAL\n",
       "0  1.1  39343.0\n",
       "1  1.3  46205.0"
      ]
     },
     "execution_count": 3,
     "metadata": {},
     "output_type": "execute_result"
    }
   ],
   "source": [
    "data.columns = ['YOE','SAL']\n",
    "data.head(2)"
   ]
  },
  {
   "cell_type": "markdown",
   "id": "8a27684b",
   "metadata": {},
   "source": [
    "### Exploring the data"
   ]
  },
  {
   "cell_type": "code",
   "execution_count": 4,
   "id": "00d983ac",
   "metadata": {},
   "outputs": [
    {
     "name": "stdout",
     "output_type": "stream",
     "text": [
      "<class 'pandas.core.frame.DataFrame'>\n",
      "RangeIndex: 30 entries, 0 to 29\n",
      "Data columns (total 2 columns):\n",
      " #   Column  Non-Null Count  Dtype  \n",
      "---  ------  --------------  -----  \n",
      " 0   YOE     30 non-null     float64\n",
      " 1   SAL     30 non-null     float64\n",
      "dtypes: float64(2)\n",
      "memory usage: 608.0 bytes\n"
     ]
    }
   ],
   "source": [
    "data.info()"
   ]
  },
  {
   "cell_type": "code",
   "execution_count": 5,
   "id": "938c36c1",
   "metadata": {},
   "outputs": [
    {
     "data": {
      "text/html": [
       "<div>\n",
       "<style scoped>\n",
       "    .dataframe tbody tr th:only-of-type {\n",
       "        vertical-align: middle;\n",
       "    }\n",
       "\n",
       "    .dataframe tbody tr th {\n",
       "        vertical-align: top;\n",
       "    }\n",
       "\n",
       "    .dataframe thead th {\n",
       "        text-align: right;\n",
       "    }\n",
       "</style>\n",
       "<table border=\"1\" class=\"dataframe\">\n",
       "  <thead>\n",
       "    <tr style=\"text-align: right;\">\n",
       "      <th></th>\n",
       "      <th>YOE</th>\n",
       "      <th>SAL</th>\n",
       "    </tr>\n",
       "  </thead>\n",
       "  <tbody>\n",
       "    <tr>\n",
       "      <th>YOE</th>\n",
       "      <td>1.000000</td>\n",
       "      <td>0.978242</td>\n",
       "    </tr>\n",
       "    <tr>\n",
       "      <th>SAL</th>\n",
       "      <td>0.978242</td>\n",
       "      <td>1.000000</td>\n",
       "    </tr>\n",
       "  </tbody>\n",
       "</table>\n",
       "</div>"
      ],
      "text/plain": [
       "          YOE       SAL\n",
       "YOE  1.000000  0.978242\n",
       "SAL  0.978242  1.000000"
      ]
     },
     "execution_count": 5,
     "metadata": {},
     "output_type": "execute_result"
    }
   ],
   "source": [
    "data.corr()"
   ]
  },
  {
   "cell_type": "code",
   "execution_count": 6,
   "id": "a684910c",
   "metadata": {},
   "outputs": [
    {
     "data": {
      "text/plain": [
       "<Axes: xlabel='YOE', ylabel='Count'>"
      ]
     },
     "execution_count": 6,
     "metadata": {},
     "output_type": "execute_result"
    },
    {
     "data": {
      "image/png": "[encoded data removed]",
      "text/plain": [
       "<Figure size 432x288 with 1 Axes>"
      ]
     },
     "metadata": {
      "needs_background": "light"
     },
     "output_type": "display_data"
    }
   ],
   "source": [
    "sns.histplot(data['YOE'], kde=True)"
   ]
  },
  {
   "cell_type": "code",
   "execution_count": 7,
   "id": "1b65e32f",
   "metadata": {},
   "outputs": [
    {
     "data": {
      "text/plain": [
       "<Axes: xlabel='SAL', ylabel='Count'>"
      ]
     },
     "execution_count": 7,
     "metadata": {},
     "output_type": "execute_result"
    },
    {
     "data": {
      "image/png": "[encoded data removed]",
      "text/plain": [
       "<Figure size 432x288 with 1 Axes>"
      ]
     },
     "metadata": {
      "needs_background": "light"
     },
     "output_type": "display_data"
    }
   ],
   "source": [
    "sns.histplot(data['SAL'], kde=True)"
   ]
  },
  {
   "cell_type": "code",
   "execution_count": 8,
   "id": "bb51ebb7",
   "metadata": {},
   "outputs": [
    {
     "data": {
      "text/plain": [
       "<Axes: xlabel='YOE', ylabel='SAL'>"
      ]
     },
     "execution_count": 8,
     "metadata": {},
     "output_type": "execute_result"
    },
    {
     "data": {
      "image/png": "[encoded data removed]",
      "text/plain": [
       "<Figure size 432x288 with 1 Axes>"
      ]
     },
     "metadata": {
      "needs_background": "light"
     },
     "output_type": "display_data"
    }
   ],
   "source": [
    "sns.scatterplot(x=data.YOE, y=data.SAL)"
   ]
  },
  {
   "cell_type": "code",
   "execution_count": 9,
   "id": "c15955c9",
   "metadata": {},
   "outputs": [
    {
     "data": {
      "text/plain": [
       "<Axes: xlabel='YOE', ylabel='SAL'>"
      ]
     },
     "execution_count": 9,
     "metadata": {},
     "output_type": "execute_result"
    },
    {
     "data": {
      "image/png": "[encoded data removed]",
      "text/plain": [
       "<Figure size 432x288 with 1 Axes>"
      ]
     },
     "metadata": {
      "needs_background": "light"
     },
     "output_type": "display_data"
    }
   ],
   "source": [
    "sns.regplot(x=data.YOE, y=data.SAL)"
   ]
  },
  {
   "cell_type": "code",
   "execution_count": 10,
   "id": "ad4c0060",
   "metadata": {},
   "outputs": [
    {
     "name": "stdout",
     "output_type": "stream",
     "text": [
      "Intercept    25792.200199\n",
      "YOE           9449.962321\n",
      "dtype: float64\n",
      "Intercept    11.346940\n",
      "YOE          24.950094\n",
      "dtype: float64 \n",
      " Intercept    5.511950e-12\n",
      "YOE          1.143068e-20\n",
      "dtype: float64\n",
      "0.9569566641435086\n"
     ]
    }
   ],
   "source": [
    "model = smf.ols('SAL~YOE',data=data).fit()\n",
    "# print(model.summary())\n",
    "\n",
    "print(model.params)\n",
    "print(model.tvalues, '\\n', model.pvalues)\n",
    "print(model.rsquared)"
   ]
  },
  {
   "cell_type": "markdown",
   "id": "5eb18b90",
   "metadata": {},
   "source": [
    "## Initiating the list to store the R-Square Values for every model"
   ]
  },
  {
   "cell_type": "code",
   "execution_count": 11,
   "id": "45350e68",
   "metadata": {},
   "outputs": [
    {
     "data": {
      "text/plain": [
       "[['Simple Model', 0.9569566641435086]]"
      ]
     },
     "execution_count": 11,
     "metadata": {},
     "output_type": "execute_result"
    }
   ],
   "source": [
    "R_Squared_list = []\n",
    "model_r_square = ['Simple Model',model.rsquared]\n",
    "R_Squared_list.append(model_r_square)\n",
    "R_Squared_list"
   ]
  },
  {
   "cell_type": "markdown",
   "id": "3b418acc",
   "metadata": {},
   "source": [
    "# Prediction for New Datapoints\n",
    "\n",
    "- Equation: Salary = (9449.962321)YearsExperience + 25792.200199"
   ]
  },
  {
   "cell_type": "code",
   "execution_count": 12,
   "id": "c028ea27",
   "metadata": {},
   "outputs": [],
   "source": [
    "# Initiating a new dummy data\n",
    "new_df = pd.DataFrame([3,5,7,10,2,1],columns=['YOE'])"
   ]
  },
  {
   "cell_type": "code",
   "execution_count": 13,
   "id": "7da4443f",
   "metadata": {},
   "outputs": [
    {
     "data": {
      "text/html": [
       "<div>\n",
       "<style scoped>\n",
       "    .dataframe tbody tr th:only-of-type {\n",
       "        vertical-align: middle;\n",
       "    }\n",
       "\n",
       "    .dataframe tbody tr th {\n",
       "        vertical-align: top;\n",
       "    }\n",
       "\n",
       "    .dataframe thead th {\n",
       "        text-align: right;\n",
       "    }\n",
       "</style>\n",
       "<table border=\"1\" class=\"dataframe\">\n",
       "  <thead>\n",
       "    <tr style=\"text-align: right;\">\n",
       "      <th></th>\n",
       "      <th>YOE</th>\n",
       "    </tr>\n",
       "  </thead>\n",
       "  <tbody>\n",
       "    <tr>\n",
       "      <th>0</th>\n",
       "      <td>3</td>\n",
       "    </tr>\n",
       "    <tr>\n",
       "      <th>1</th>\n",
       "      <td>5</td>\n",
       "    </tr>\n",
       "    <tr>\n",
       "      <th>2</th>\n",
       "      <td>7</td>\n",
       "    </tr>\n",
       "    <tr>\n",
       "      <th>3</th>\n",
       "      <td>10</td>\n",
       "    </tr>\n",
       "    <tr>\n",
       "      <th>4</th>\n",
       "      <td>2</td>\n",
       "    </tr>\n",
       "    <tr>\n",
       "      <th>5</th>\n",
       "      <td>1</td>\n",
       "    </tr>\n",
       "  </tbody>\n",
       "</table>\n",
       "</div>"
      ],
      "text/plain": [
       "   YOE\n",
       "0    3\n",
       "1    5\n",
       "2    7\n",
       "3   10\n",
       "4    2\n",
       "5    1"
      ]
     },
     "execution_count": 13,
     "metadata": {},
     "output_type": "execute_result"
    }
   ],
   "source": [
    "new_df"
   ]
  },
  {
   "cell_type": "code",
   "execution_count": 14,
   "id": "e9750286",
   "metadata": {},
   "outputs": [
    {
     "data": {
      "text/plain": [
       "0     54142.087163\n",
       "1     73042.011806\n",
       "2     91941.936449\n",
       "3    120291.823413\n",
       "4     44692.124842\n",
       "5     35242.162520\n",
       "dtype: float64"
      ]
     },
     "execution_count": 14,
     "metadata": {},
     "output_type": "execute_result"
    }
   ],
   "source": [
    "# Prediction using the model\n",
    "model.predict(new_df)"
   ]
  },
  {
   "cell_type": "code",
   "execution_count": 15,
   "id": "3694a580",
   "metadata": {},
   "outputs": [
    {
     "data": {
      "text/html": [
       "<div>\n",
       "<style scoped>\n",
       "    .dataframe tbody tr th:only-of-type {\n",
       "        vertical-align: middle;\n",
       "    }\n",
       "\n",
       "    .dataframe tbody tr th {\n",
       "        vertical-align: top;\n",
       "    }\n",
       "\n",
       "    .dataframe thead th {\n",
       "        text-align: right;\n",
       "    }\n",
       "</style>\n",
       "<table border=\"1\" class=\"dataframe\">\n",
       "  <thead>\n",
       "    <tr style=\"text-align: right;\">\n",
       "      <th></th>\n",
       "      <th>YOE</th>\n",
       "      <th>Pred_Salary</th>\n",
       "    </tr>\n",
       "  </thead>\n",
       "  <tbody>\n",
       "    <tr>\n",
       "      <th>0</th>\n",
       "      <td>3</td>\n",
       "      <td>54142.087163</td>\n",
       "    </tr>\n",
       "    <tr>\n",
       "      <th>1</th>\n",
       "      <td>5</td>\n",
       "      <td>73042.011806</td>\n",
       "    </tr>\n",
       "    <tr>\n",
       "      <th>2</th>\n",
       "      <td>7</td>\n",
       "      <td>91941.936449</td>\n",
       "    </tr>\n",
       "    <tr>\n",
       "      <th>3</th>\n",
       "      <td>10</td>\n",
       "      <td>120291.823413</td>\n",
       "    </tr>\n",
       "    <tr>\n",
       "      <th>4</th>\n",
       "      <td>2</td>\n",
       "      <td>44692.124842</td>\n",
       "    </tr>\n",
       "    <tr>\n",
       "      <th>5</th>\n",
       "      <td>1</td>\n",
       "      <td>35242.162520</td>\n",
       "    </tr>\n",
       "  </tbody>\n",
       "</table>\n",
       "</div>"
      ],
      "text/plain": [
       "   YOE    Pred_Salary\n",
       "0    3   54142.087163\n",
       "1    5   73042.011806\n",
       "2    7   91941.936449\n",
       "3   10  120291.823413\n",
       "4    2   44692.124842\n",
       "5    1   35242.162520"
      ]
     },
     "execution_count": 15,
     "metadata": {},
     "output_type": "execute_result"
    }
   ],
   "source": [
    "# Adding the prediction to the same dataframe\n",
    "new_df['Pred_Salary'] = model.predict(new_df)\n",
    "new_df"
   ]
  },
  {
   "cell_type": "code",
   "execution_count": 16,
   "id": "2a61032f",
   "metadata": {},
   "outputs": [
    {
     "data": {
      "text/plain": [
       "<Axes: xlabel='YOE', ylabel='Pred_Salary'>"
      ]
     },
     "execution_count": 16,
     "metadata": {},
     "output_type": "execute_result"
    },
    {
     "data": {
      "image/png": "[encoded data removed]",
      "text/plain": [
       "<Figure size 432x288 with 1 Axes>"
      ]
     },
     "metadata": {
      "needs_background": "light"
     },
     "output_type": "display_data"
    }
   ],
   "source": [
    "# Plotting the predicted data\n",
    "sns.scatterplot(x=new_df.YOE, y=new_df.Pred_Salary)"
   ]
  },
  {
   "cell_type": "markdown",
   "id": "b0bada54",
   "metadata": {},
   "source": [
    "## Residual Plot for Simple Linear Regression without transformation"
   ]
  },
  {
   "cell_type": "code",
   "execution_count": 17,
   "id": "9149a5a6",
   "metadata": {},
   "outputs": [
    {
     "data": {
      "image/png": "[encoded data removed]",
      "text/plain": [
       "<Figure size 432x288 with 1 Axes>"
      ]
     },
     "metadata": {
      "needs_background": "light"
     },
     "output_type": "display_data"
    }
   ],
   "source": [
    "sns.scatterplot(x=data['YOE'], y=(data['SAL'] - model.predict(data['YOE'])))\n",
    "plt.show()"
   ]
  },
  {
   "cell_type": "markdown",
   "id": "19cb9588",
   "metadata": {},
   "source": [
    "# Insight:\n",
    "### The residual doesn't seems to have any pattern, Hence highly likely the linear fit is best"
   ]
  },
  {
   "cell_type": "markdown",
   "id": "35eb99e6",
   "metadata": {},
   "source": [
    "# Tranforming the Dependant variables"
   ]
  },
  {
   "cell_type": "code",
   "execution_count": 18,
   "id": "c801c14e",
   "metadata": {},
   "outputs": [],
   "source": [
    "data['Log_SAL'] = np.log(data['SAL'])  ## log(x) Transformation\n",
    "data['sqrt_SAL'] = np.sqrt(data['SAL']) ## (x)^1/2 Transformation\n",
    "data['cbrt_SAL'] = np.power(data['SAL'],1/3)  ## x^1/3 Transformation\n",
    "data['log_sqrt_SAL'] = np.log(data['SAL']) + np.sqrt(data['SAL']) ## log(x) + x^1/2 Transformation"
   ]
  },
  {
   "cell_type": "code",
   "execution_count": 19,
   "id": "196243ab",
   "metadata": {},
   "outputs": [
    {
     "data": {
      "text/html": [
       "<div>\n",
       "<style scoped>\n",
       "    .dataframe tbody tr th:only-of-type {\n",
       "        vertical-align: middle;\n",
       "    }\n",
       "\n",
       "    .dataframe tbody tr th {\n",
       "        vertical-align: top;\n",
       "    }\n",
       "\n",
       "    .dataframe thead th {\n",
       "        text-align: right;\n",
       "    }\n",
       "</style>\n",
       "<table border=\"1\" class=\"dataframe\">\n",
       "  <thead>\n",
       "    <tr style=\"text-align: right;\">\n",
       "      <th></th>\n",
       "      <th>YOE</th>\n",
       "      <th>SAL</th>\n",
       "      <th>Log_SAL</th>\n",
       "      <th>sqrt_SAL</th>\n",
       "      <th>cbrt_SAL</th>\n",
       "      <th>log_sqrt_SAL</th>\n",
       "    </tr>\n",
       "  </thead>\n",
       "  <tbody>\n",
       "    <tr>\n",
       "      <th>0</th>\n",
       "      <td>1.1</td>\n",
       "      <td>39343.0</td>\n",
       "      <td>10.580073</td>\n",
       "      <td>198.350700</td>\n",
       "      <td>34.011242</td>\n",
       "      <td>208.930773</td>\n",
       "    </tr>\n",
       "    <tr>\n",
       "      <th>1</th>\n",
       "      <td>1.3</td>\n",
       "      <td>46205.0</td>\n",
       "      <td>10.740843</td>\n",
       "      <td>214.953483</td>\n",
       "      <td>35.883626</td>\n",
       "      <td>225.694327</td>\n",
       "    </tr>\n",
       "  </tbody>\n",
       "</table>\n",
       "</div>"
      ],
      "text/plain": [
       "   YOE      SAL    Log_SAL    sqrt_SAL   cbrt_SAL  log_sqrt_SAL\n",
       "0  1.1  39343.0  10.580073  198.350700  34.011242    208.930773\n",
       "1  1.3  46205.0  10.740843  214.953483  35.883626    225.694327"
      ]
     },
     "execution_count": 19,
     "metadata": {},
     "output_type": "execute_result"
    }
   ],
   "source": [
    "data.head(2)"
   ]
  },
  {
   "cell_type": "code",
   "execution_count": 20,
   "id": "52814fc5",
   "metadata": {},
   "outputs": [
    {
     "data": {
      "image/png": "[encoded data removed]",
      "text/plain": [
       "<Figure size 432x288 with 2 Axes>"
      ]
     },
     "metadata": {
      "needs_background": "light"
     },
     "output_type": "display_data"
    }
   ],
   "source": [
    "sns.heatmap(data.corr(), annot=True)\n",
    "plt.show()"
   ]
  },
  {
   "cell_type": "markdown",
   "id": "5691c10a",
   "metadata": {},
   "source": [
    "# Insight:\n",
    "### The Correlation has dropped after doing the transformations"
   ]
  },
  {
   "cell_type": "markdown",
   "id": "3c92ffe8",
   "metadata": {},
   "source": [
    "## Plotting the scatter plots with transformed data"
   ]
  },
  {
   "cell_type": "code",
   "execution_count": 21,
   "id": "2e20340e",
   "metadata": {},
   "outputs": [
    {
     "data": {
      "image/png": "[encoded data removed]",
      "text/plain": [
       "<Figure size 1080x1080 with 6 Axes>"
      ]
     },
     "metadata": {
      "needs_background": "light"
     },
     "output_type": "display_data"
    }
   ],
   "source": [
    "fig, axs = plt.subplots(3,2,figsize=(15,15))\n",
    "sns.regplot(x='YOE',y='SAL',data=data,ax=axs[0,0])\n",
    "sns.regplot(x='YOE',y='Log_SAL',data=data,ax=axs[0,1])\n",
    "sns.regplot(x='YOE',y='sqrt_SAL',data=data,ax=axs[1,0])\n",
    "sns.regplot(x='YOE',y='cbrt_SAL',data=data,ax=axs[1,1])\n",
    "sns.regplot(x='YOE',y='log_sqrt_SAL',data=data,ax=axs[2,0])\n",
    "plt.show()"
   ]
  },
  {
   "cell_type": "markdown",
   "id": "e44d109c",
   "metadata": {},
   "source": [
    "# `log(x)` Transformed Model"
   ]
  },
  {
   "cell_type": "code",
   "execution_count": 22,
   "id": "3828423b",
   "metadata": {},
   "outputs": [
    {
     "name": "stdout",
     "output_type": "stream",
     "text": [
      "Intercept    10.507402\n",
      "YOE           0.125453\n",
      "dtype: float64\n",
      "Intercept    273.327166\n",
      "YOE           19.584833\n",
      "dtype: float64 \n",
      " Intercept    1.604634e-49\n",
      "YOE          7.027439e-18\n",
      "dtype: float64\n",
      "0.9319671194084195\n"
     ]
    }
   ],
   "source": [
    "log_model = smf.ols('Log_SAL~YOE',data=data).fit()\n",
    "# print(model.summary())\n",
    "\n",
    "print(log_model.params)\n",
    "print(log_model.tvalues, '\\n', log_model.pvalues)\n",
    "print(log_model.rsquared)"
   ]
  },
  {
   "cell_type": "code",
   "execution_count": 23,
   "id": "154d79b3",
   "metadata": {},
   "outputs": [
    {
     "data": {
      "text/plain": [
       "[['Simple Model', 0.9569566641435086],\n",
       " ['log(x) Transformed Model', 0.9319671194084195]]"
      ]
     },
     "execution_count": 23,
     "metadata": {},
     "output_type": "execute_result"
    }
   ],
   "source": [
    "model_r_square = ['log(x) Transformed Model',log_model.rsquared]\n",
    "R_Squared_list.append(model_r_square)\n",
    "R_Squared_list"
   ]
  },
  {
   "cell_type": "markdown",
   "id": "f0d216b1",
   "metadata": {},
   "source": [
    "## Residual Plot for `log(x)` Transformed Model"
   ]
  },
  {
   "cell_type": "code",
   "execution_count": 24,
   "id": "851b27ca",
   "metadata": {},
   "outputs": [
    {
     "data": {
      "image/png": "[encoded data removed]",
      "text/plain": [
       "<Figure size 432x288 with 1 Axes>"
      ]
     },
     "metadata": {
      "needs_background": "light"
     },
     "output_type": "display_data"
    }
   ],
   "source": [
    "sns.scatterplot(x=data['YOE'], y=(data['SAL'] - log_model.predict(data['YOE'])))\n",
    "plt.show()"
   ]
  },
  {
   "cell_type": "markdown",
   "id": "4a922986",
   "metadata": {},
   "source": [
    "# Insight:\n",
    "### Residual is increasing linearly"
   ]
  },
  {
   "cell_type": "code",
   "execution_count": null,
   "id": "af6e6afd",
   "metadata": {},
   "outputs": [],
   "source": []
  },
  {
   "cell_type": "markdown",
   "id": "be4cbde7",
   "metadata": {},
   "source": [
    "# `sqrt(x)` Transformed Model"
   ]
  },
  {
   "cell_type": "code",
   "execution_count": 25,
   "id": "6ad43df2",
   "metadata": {},
   "outputs": [
    {
     "data": {
      "text/html": [
       "<div>\n",
       "<style scoped>\n",
       "    .dataframe tbody tr th:only-of-type {\n",
       "        vertical-align: middle;\n",
       "    }\n",
       "\n",
       "    .dataframe tbody tr th {\n",
       "        vertical-align: top;\n",
       "    }\n",
       "\n",
       "    .dataframe thead th {\n",
       "        text-align: right;\n",
       "    }\n",
       "</style>\n",
       "<table border=\"1\" class=\"dataframe\">\n",
       "  <thead>\n",
       "    <tr style=\"text-align: right;\">\n",
       "      <th></th>\n",
       "      <th>YOE</th>\n",
       "      <th>SAL</th>\n",
       "      <th>Log_SAL</th>\n",
       "      <th>sqrt_SAL</th>\n",
       "      <th>cbrt_SAL</th>\n",
       "      <th>log_sqrt_SAL</th>\n",
       "    </tr>\n",
       "  </thead>\n",
       "  <tbody>\n",
       "    <tr>\n",
       "      <th>0</th>\n",
       "      <td>1.1</td>\n",
       "      <td>39343.0</td>\n",
       "      <td>10.580073</td>\n",
       "      <td>198.350700</td>\n",
       "      <td>34.011242</td>\n",
       "      <td>208.930773</td>\n",
       "    </tr>\n",
       "    <tr>\n",
       "      <th>1</th>\n",
       "      <td>1.3</td>\n",
       "      <td>46205.0</td>\n",
       "      <td>10.740843</td>\n",
       "      <td>214.953483</td>\n",
       "      <td>35.883626</td>\n",
       "      <td>225.694327</td>\n",
       "    </tr>\n",
       "  </tbody>\n",
       "</table>\n",
       "</div>"
      ],
      "text/plain": [
       "   YOE      SAL    Log_SAL    sqrt_SAL   cbrt_SAL  log_sqrt_SAL\n",
       "0  1.1  39343.0  10.580073  198.350700  34.011242    208.930773\n",
       "1  1.3  46205.0  10.740843  214.953483  35.883626    225.694327"
      ]
     },
     "execution_count": 25,
     "metadata": {},
     "output_type": "execute_result"
    }
   ],
   "source": [
    "data.head(2)"
   ]
  },
  {
   "cell_type": "code",
   "execution_count": 26,
   "id": "90d3bc37",
   "metadata": {},
   "outputs": [
    {
     "name": "stdout",
     "output_type": "stream",
     "text": [
      "Intercept    180.700221\n",
      "YOE           17.056532\n",
      "dtype: float64\n",
      "Intercept    40.646251\n",
      "YOE          23.025247\n",
      "dtype: float64 \n",
      " Intercept    1.920194e-26\n",
      "YOE          9.782891e-20\n",
      "dtype: float64\n",
      "0.9498353533865289\n"
     ]
    }
   ],
   "source": [
    "sqrt_model = smf.ols('sqrt_SAL~YOE',data=data).fit()\n",
    "# print(model.summary())\n",
    "\n",
    "print(sqrt_model.params)\n",
    "print(sqrt_model.tvalues, '\\n', sqrt_model.pvalues)\n",
    "print(sqrt_model.rsquared)"
   ]
  },
  {
   "cell_type": "code",
   "execution_count": 27,
   "id": "5609266b",
   "metadata": {},
   "outputs": [
    {
     "data": {
      "text/plain": [
       "[['Simple Model', 0.9569566641435086],\n",
       " ['log(x) Transformed Model', 0.9319671194084195],\n",
       " ['sqrt(x) Transformed Model', 0.9498353533865289]]"
      ]
     },
     "execution_count": 27,
     "metadata": {},
     "output_type": "execute_result"
    }
   ],
   "source": [
    "model_r_square = ['sqrt(x) Transformed Model',sqrt_model.rsquared]\n",
    "R_Squared_list.append(model_r_square)\n",
    "R_Squared_list"
   ]
  },
  {
   "cell_type": "markdown",
   "id": "2d5767e6",
   "metadata": {},
   "source": [
    "## Residual Plot for `sqrt(x)` Transformed Model"
   ]
  },
  {
   "cell_type": "code",
   "execution_count": 28,
   "id": "077aa9b3",
   "metadata": {},
   "outputs": [
    {
     "data": {
      "image/png": "[encoded data removed]",
      "text/plain": [
       "<Figure size 432x288 with 1 Axes>"
      ]
     },
     "metadata": {
      "needs_background": "light"
     },
     "output_type": "display_data"
    }
   ],
   "source": [
    "sns.scatterplot(x=data['YOE'], y=(data['SAL'] - sqrt_model.predict(data['YOE'])))\n",
    "plt.show()"
   ]
  },
  {
   "cell_type": "markdown",
   "id": "4e19bb7f",
   "metadata": {},
   "source": [
    "# Insight:\n",
    "### Residual is increasing linearly"
   ]
  },
  {
   "cell_type": "code",
   "execution_count": null,
   "id": "847d84d6",
   "metadata": {},
   "outputs": [],
   "source": []
  },
  {
   "cell_type": "markdown",
   "id": "131241e1",
   "metadata": {},
   "source": [
    "# `cube root(x)` Transformed Model"
   ]
  },
  {
   "cell_type": "code",
   "execution_count": 29,
   "id": "41f84cab",
   "metadata": {},
   "outputs": [
    {
     "data": {
      "text/html": [
       "<div>\n",
       "<style scoped>\n",
       "    .dataframe tbody tr th:only-of-type {\n",
       "        vertical-align: middle;\n",
       "    }\n",
       "\n",
       "    .dataframe tbody tr th {\n",
       "        vertical-align: top;\n",
       "    }\n",
       "\n",
       "    .dataframe thead th {\n",
       "        text-align: right;\n",
       "    }\n",
       "</style>\n",
       "<table border=\"1\" class=\"dataframe\">\n",
       "  <thead>\n",
       "    <tr style=\"text-align: right;\">\n",
       "      <th></th>\n",
       "      <th>YOE</th>\n",
       "      <th>SAL</th>\n",
       "      <th>Log_SAL</th>\n",
       "      <th>sqrt_SAL</th>\n",
       "      <th>cbrt_SAL</th>\n",
       "      <th>log_sqrt_SAL</th>\n",
       "    </tr>\n",
       "  </thead>\n",
       "  <tbody>\n",
       "    <tr>\n",
       "      <th>0</th>\n",
       "      <td>1.1</td>\n",
       "      <td>39343.0</td>\n",
       "      <td>10.580073</td>\n",
       "      <td>198.350700</td>\n",
       "      <td>34.011242</td>\n",
       "      <td>208.930773</td>\n",
       "    </tr>\n",
       "    <tr>\n",
       "      <th>1</th>\n",
       "      <td>1.3</td>\n",
       "      <td>46205.0</td>\n",
       "      <td>10.740843</td>\n",
       "      <td>214.953483</td>\n",
       "      <td>35.883626</td>\n",
       "      <td>225.694327</td>\n",
       "    </tr>\n",
       "  </tbody>\n",
       "</table>\n",
       "</div>"
      ],
      "text/plain": [
       "   YOE      SAL    Log_SAL    sqrt_SAL   cbrt_SAL  log_sqrt_SAL\n",
       "0  1.1  39343.0  10.580073  198.350700  34.011242    208.930773\n",
       "1  1.3  46205.0  10.740843  214.953483  35.883626    225.694327"
      ]
     },
     "execution_count": 29,
     "metadata": {},
     "output_type": "execute_result"
    }
   ],
   "source": [
    "data.head(2)"
   ]
  },
  {
   "cell_type": "code",
   "execution_count": 30,
   "id": "6bf2ecb4",
   "metadata": {},
   "outputs": [
    {
     "name": "stdout",
     "output_type": "stream",
     "text": [
      "Intercept    32.453864\n",
      "YOE           1.751471\n",
      "dtype: float64\n",
      "Intercept    67.821095\n",
      "YOE          21.966101\n",
      "dtype: float64 \n",
      " Intercept    1.320725e-32\n",
      "YOE          3.420225e-19\n",
      "dtype: float64\n",
      "0.945152842233794\n"
     ]
    }
   ],
   "source": [
    "cbrt_model = smf.ols('cbrt_SAL~YOE',data=data).fit()\n",
    "# print(model.summary())\n",
    "\n",
    "print(cbrt_model.params)\n",
    "print(cbrt_model.tvalues, '\\n', cbrt_model.pvalues)\n",
    "print(cbrt_model.rsquared)"
   ]
  },
  {
   "cell_type": "code",
   "execution_count": 31,
   "id": "91e8c73d",
   "metadata": {},
   "outputs": [
    {
     "data": {
      "text/plain": [
       "[['Simple Model', 0.9569566641435086],\n",
       " ['log(x) Transformed Model', 0.9319671194084195],\n",
       " ['sqrt(x) Transformed Model', 0.9498353533865289],\n",
       " ['cube root(x) Transformed Model', 0.945152842233794]]"
      ]
     },
     "execution_count": 31,
     "metadata": {},
     "output_type": "execute_result"
    }
   ],
   "source": [
    "model_r_square = ['cube root(x) Transformed Model',cbrt_model.rsquared]\n",
    "R_Squared_list.append(model_r_square)\n",
    "R_Squared_list"
   ]
  },
  {
   "cell_type": "markdown",
   "id": "c415d2a8",
   "metadata": {},
   "source": [
    "## Residual Plot for `cube root(x)` Transformed Model"
   ]
  },
  {
   "cell_type": "code",
   "execution_count": 32,
   "id": "8f7d7903",
   "metadata": {},
   "outputs": [
    {
     "data": {
      "image/png": "[encoded data removed]",
      "text/plain": [
       "<Figure size 432x288 with 1 Axes>"
      ]
     },
     "metadata": {
      "needs_background": "light"
     },
     "output_type": "display_data"
    }
   ],
   "source": [
    "sns.scatterplot(x=data['YOE'], y=(data['SAL'] - cbrt_model.predict(data['YOE'])))\n",
    "plt.show()"
   ]
  },
  {
   "cell_type": "markdown",
   "id": "f44a9a82",
   "metadata": {},
   "source": [
    "# Insight:\n",
    "### Residual is increasing linearly"
   ]
  },
  {
   "cell_type": "code",
   "execution_count": null,
   "id": "6e823dd7",
   "metadata": {},
   "outputs": [],
   "source": []
  },
  {
   "cell_type": "markdown",
   "id": "402c1cf6",
   "metadata": {},
   "source": [
    "# `log(x) + sqrt(x)` Transformed Model"
   ]
  },
  {
   "cell_type": "code",
   "execution_count": 33,
   "id": "9aeb4e1d",
   "metadata": {},
   "outputs": [
    {
     "data": {
      "text/html": [
       "<div>\n",
       "<style scoped>\n",
       "    .dataframe tbody tr th:only-of-type {\n",
       "        vertical-align: middle;\n",
       "    }\n",
       "\n",
       "    .dataframe tbody tr th {\n",
       "        vertical-align: top;\n",
       "    }\n",
       "\n",
       "    .dataframe thead th {\n",
       "        text-align: right;\n",
       "    }\n",
       "</style>\n",
       "<table border=\"1\" class=\"dataframe\">\n",
       "  <thead>\n",
       "    <tr style=\"text-align: right;\">\n",
       "      <th></th>\n",
       "      <th>YOE</th>\n",
       "      <th>SAL</th>\n",
       "      <th>Log_SAL</th>\n",
       "      <th>sqrt_SAL</th>\n",
       "      <th>cbrt_SAL</th>\n",
       "      <th>log_sqrt_SAL</th>\n",
       "    </tr>\n",
       "  </thead>\n",
       "  <tbody>\n",
       "    <tr>\n",
       "      <th>0</th>\n",
       "      <td>1.1</td>\n",
       "      <td>39343.0</td>\n",
       "      <td>10.580073</td>\n",
       "      <td>198.350700</td>\n",
       "      <td>34.011242</td>\n",
       "      <td>208.930773</td>\n",
       "    </tr>\n",
       "    <tr>\n",
       "      <th>1</th>\n",
       "      <td>1.3</td>\n",
       "      <td>46205.0</td>\n",
       "      <td>10.740843</td>\n",
       "      <td>214.953483</td>\n",
       "      <td>35.883626</td>\n",
       "      <td>225.694327</td>\n",
       "    </tr>\n",
       "  </tbody>\n",
       "</table>\n",
       "</div>"
      ],
      "text/plain": [
       "   YOE      SAL    Log_SAL    sqrt_SAL   cbrt_SAL  log_sqrt_SAL\n",
       "0  1.1  39343.0  10.580073  198.350700  34.011242    208.930773\n",
       "1  1.3  46205.0  10.740843  214.953483  35.883626    225.694327"
      ]
     },
     "execution_count": 33,
     "metadata": {},
     "output_type": "execute_result"
    }
   ],
   "source": [
    "data.head(2)"
   ]
  },
  {
   "cell_type": "code",
   "execution_count": 34,
   "id": "ce142b18",
   "metadata": {},
   "outputs": [
    {
     "name": "stdout",
     "output_type": "stream",
     "text": [
      "Intercept    191.207623\n",
      "YOE           17.181985\n",
      "dtype: float64\n",
      "Intercept    42.655675\n",
      "YOE          23.003648\n",
      "dtype: float64 \n",
      " Intercept    5.076755e-27\n",
      "YOE          1.003057e-19\n",
      "dtype: float64\n",
      "0.9497458410351914\n"
     ]
    }
   ],
   "source": [
    "log_sqrt_model = smf.ols('log_sqrt_SAL~YOE',data=data).fit()\n",
    "# print(model.summary())\n",
    "\n",
    "print(log_sqrt_model.params)\n",
    "print(log_sqrt_model.tvalues, '\\n', log_sqrt_model.pvalues)\n",
    "print(log_sqrt_model.rsquared)"
   ]
  },
  {
   "cell_type": "code",
   "execution_count": 35,
   "id": "83604850",
   "metadata": {},
   "outputs": [
    {
     "data": {
      "text/plain": [
       "[['Simple Model', 0.9569566641435086],\n",
       " ['log(x) Transformed Model', 0.9319671194084195],\n",
       " ['sqrt(x) Transformed Model', 0.9498353533865289],\n",
       " ['cube root(x) Transformed Model', 0.945152842233794],\n",
       " ['log(x) + sqrt(x) Transformed Model', 0.9497458410351914]]"
      ]
     },
     "execution_count": 35,
     "metadata": {},
     "output_type": "execute_result"
    }
   ],
   "source": [
    "model_r_square = ['log(x) + sqrt(x) Transformed Model',log_sqrt_model.rsquared]\n",
    "R_Squared_list.append(model_r_square)\n",
    "R_Squared_list"
   ]
  },
  {
   "cell_type": "markdown",
   "id": "2eac596c",
   "metadata": {},
   "source": [
    "## Residual Plot for `log(x) + sqrt(x)` Transformed Model"
   ]
  },
  {
   "cell_type": "code",
   "execution_count": 36,
   "id": "a3ed4207",
   "metadata": {},
   "outputs": [
    {
     "data": {
      "image/png": "[encoded data removed]",
      "text/plain": [
       "<Figure size 432x288 with 1 Axes>"
      ]
     },
     "metadata": {
      "needs_background": "light"
     },
     "output_type": "display_data"
    }
   ],
   "source": [
    "sns.scatterplot(x=data['YOE'], y=(data['SAL'] - log_sqrt_model.predict(data['YOE'])))\n",
    "plt.show()"
   ]
  },
  {
   "cell_type": "markdown",
   "id": "fe63f56a",
   "metadata": {},
   "source": [
    "# Insight:\n",
    "### Residual is increasing linearly"
   ]
  },
  {
   "cell_type": "code",
   "execution_count": null,
   "id": "c0103463",
   "metadata": {},
   "outputs": [],
   "source": []
  },
  {
   "cell_type": "code",
   "execution_count": 37,
   "id": "93f94c25",
   "metadata": {},
   "outputs": [
    {
     "data": {
      "text/html": [
       "<div>\n",
       "<style scoped>\n",
       "    .dataframe tbody tr th:only-of-type {\n",
       "        vertical-align: middle;\n",
       "    }\n",
       "\n",
       "    .dataframe tbody tr th {\n",
       "        vertical-align: top;\n",
       "    }\n",
       "\n",
       "    .dataframe thead th {\n",
       "        text-align: right;\n",
       "    }\n",
       "</style>\n",
       "<table border=\"1\" class=\"dataframe\">\n",
       "  <thead>\n",
       "    <tr style=\"text-align: right;\">\n",
       "      <th></th>\n",
       "      <th>Model_Name</th>\n",
       "      <th>R_Square_Value</th>\n",
       "    </tr>\n",
       "  </thead>\n",
       "  <tbody>\n",
       "    <tr>\n",
       "      <th>0</th>\n",
       "      <td>Simple Model</td>\n",
       "      <td>0.956957</td>\n",
       "    </tr>\n",
       "    <tr>\n",
       "      <th>1</th>\n",
       "      <td>log(x) Transformed Model</td>\n",
       "      <td>0.931967</td>\n",
       "    </tr>\n",
       "    <tr>\n",
       "      <th>2</th>\n",
       "      <td>sqrt(x) Transformed Model</td>\n",
       "      <td>0.949835</td>\n",
       "    </tr>\n",
       "    <tr>\n",
       "      <th>3</th>\n",
       "      <td>cube root(x) Transformed Model</td>\n",
       "      <td>0.945153</td>\n",
       "    </tr>\n",
       "    <tr>\n",
       "      <th>4</th>\n",
       "      <td>log(x) + sqrt(x) Transformed Model</td>\n",
       "      <td>0.949746</td>\n",
       "    </tr>\n",
       "  </tbody>\n",
       "</table>\n",
       "</div>"
      ],
      "text/plain": [
       "                           Model_Name  R_Square_Value\n",
       "0                        Simple Model        0.956957\n",
       "1            log(x) Transformed Model        0.931967\n",
       "2           sqrt(x) Transformed Model        0.949835\n",
       "3      cube root(x) Transformed Model        0.945153\n",
       "4  log(x) + sqrt(x) Transformed Model        0.949746"
      ]
     },
     "execution_count": 37,
     "metadata": {},
     "output_type": "execute_result"
    }
   ],
   "source": [
    "R_Squared_df = pd.DataFrame(R_Squared_list,columns=['Model_Name', 'R_Square_Value'])\n",
    "R_Squared_df"
   ]
  },
  {
   "cell_type": "markdown",
   "id": "6d58b409",
   "metadata": {},
   "source": [
    "# Insight:\n",
    "### The Simple Linear Regression Model without Transformation has the best `R^2`"
   ]
  },
  {
   "cell_type": "markdown",
   "id": "a9f3d9b8",
   "metadata": {},
   "source": [
    "# Will try to remove some high influence points using Cook's distance for simple model and fit the model again"
   ]
  },
  {
   "cell_type": "code",
   "execution_count": 38,
   "id": "7860a134",
   "metadata": {},
   "outputs": [
    {
     "data": {
      "text/plain": [
       "0.13333333333333333"
      ]
     },
     "execution_count": 38,
     "metadata": {},
     "output_type": "execute_result"
    }
   ],
   "source": [
    "## Getting the Cook's distance threshold\n",
    "cook_distance_threshold = 4/(data.shape[0])\n",
    "cook_distance_threshold"
   ]
  },
  {
   "cell_type": "code",
   "execution_count": 39,
   "id": "1dca2a15",
   "metadata": {},
   "outputs": [
    {
     "data": {
      "text/plain": [
       "array([2.04861819e-02, 1.25145650e-01, 8.72116606e-03, 1.93092472e-03,\n",
       "       5.84154210e-02, 1.16363588e-02, 3.40167284e-02, 2.19613539e-03,\n",
       "       6.17099555e-02, 9.25533214e-03, 2.21968428e-04, 4.01548032e-02,\n",
       "       2.90705910e-02, 3.56540638e-02, 3.01682374e-02, 9.42447229e-03,\n",
       "       3.39239364e-02, 2.76816818e-02, 1.88727425e-05, 7.43028573e-02,\n",
       "       1.98157219e-03, 2.24043716e-02, 7.68659258e-04, 1.31754523e-01,\n",
       "       2.96376458e-03, 4.57869868e-02, 4.00003185e-03, 3.18614898e-02,\n",
       "       1.52660429e-03, 3.02325174e-02])"
      ]
     },
     "execution_count": 39,
     "metadata": {},
     "output_type": "execute_result"
    }
   ],
   "source": [
    "model_influence = model.get_influence()\n",
    "c, _ = model_influence.cooks_distance\n",
    "c"
   ]
  },
  {
   "cell_type": "code",
   "execution_count": 40,
   "id": "2ff67460",
   "metadata": {},
   "outputs": [
    {
     "data": {
      "image/png": "[encoded data removed]",
      "text/plain": [
       "<Figure size 1440x576 with 1 Axes>"
      ]
     },
     "metadata": {
      "needs_background": "light"
     },
     "output_type": "display_data"
    }
   ],
   "source": [
    "# Plot the influencers values using stem plot\n",
    "fig = plt.subplots(figsize=(20,8))\n",
    "plt.stem(np.arange(len(data)), np.round(c,3))\n",
    "plt.xlabel('Row Index')\n",
    "plt.ylabel('Cooks Distance')\n",
    "plt.show()"
   ]
  },
  {
   "cell_type": "code",
   "execution_count": 41,
   "id": "305edb6e",
   "metadata": {},
   "outputs": [
    {
     "data": {
      "text/plain": [
       "array([], shape=(0, 1), dtype=int64)"
      ]
     },
     "execution_count": 41,
     "metadata": {},
     "output_type": "execute_result"
    }
   ],
   "source": [
    "# Indexes where the Cook's distance is more than threshold\n",
    "np.argwhere(c>cook_distance_threshold)"
   ]
  },
  {
   "cell_type": "markdown",
   "id": "51ad1721",
   "metadata": {},
   "source": [
    "# Insight:\n",
    "### None of the points are highly influencial points"
   ]
  },
  {
   "cell_type": "code",
   "execution_count": null,
   "id": "8a47eb3e",
   "metadata": {},
   "outputs": [],
   "source": []
  },
  {
   "cell_type": "markdown",
   "id": "23ea53d3",
   "metadata": {},
   "source": [
    "# Best `R^2` and Corresponding model"
   ]
  },
  {
   "cell_type": "code",
   "execution_count": 42,
   "id": "bfd6a84c",
   "metadata": {},
   "outputs": [
    {
     "data": {
      "text/html": [
       "<div>\n",
       "<style scoped>\n",
       "    .dataframe tbody tr th:only-of-type {\n",
       "        vertical-align: middle;\n",
       "    }\n",
       "\n",
       "    .dataframe tbody tr th {\n",
       "        vertical-align: top;\n",
       "    }\n",
       "\n",
       "    .dataframe thead th {\n",
       "        text-align: right;\n",
       "    }\n",
       "</style>\n",
       "<table border=\"1\" class=\"dataframe\">\n",
       "  <thead>\n",
       "    <tr style=\"text-align: right;\">\n",
       "      <th></th>\n",
       "      <th>Model_Name</th>\n",
       "      <th>R_Square_Value</th>\n",
       "    </tr>\n",
       "  </thead>\n",
       "  <tbody>\n",
       "    <tr>\n",
       "      <th>0</th>\n",
       "      <td>Simple Model</td>\n",
       "      <td>0.956957</td>\n",
       "    </tr>\n",
       "  </tbody>\n",
       "</table>\n",
       "</div>"
      ],
      "text/plain": [
       "     Model_Name  R_Square_Value\n",
       "0  Simple Model        0.956957"
      ]
     },
     "execution_count": 42,
     "metadata": {},
     "output_type": "execute_result"
    }
   ],
   "source": [
    "R_Squared_df[R_Squared_df['R_Square_Value']==R_Squared_df['R_Square_Value'].max()]"
   ]
  },
  {
   "cell_type": "code",
   "execution_count": null,
   "id": "d86fc472",
   "metadata": {},
   "outputs": [],
   "source": []
  }
 ],
 "metadata": {
  "kernelspec": {
   "display_name": "Python 3 (ipykernel)",
   "language": "python",
   "name": "python3"
  },
  "language_info": {
   "codemirror_mode": {
    "name": "ipython",
    "version": 3
   },
   "file_extension": ".py",
   "mimetype": "text/x-python",
   "name": "python",
   "nbconvert_exporter": "python",
   "pygments_lexer": "ipython3",
   "version": "3.9.7"
  }
 },
 "nbformat": 4,
 "nbformat_minor": 5
}
