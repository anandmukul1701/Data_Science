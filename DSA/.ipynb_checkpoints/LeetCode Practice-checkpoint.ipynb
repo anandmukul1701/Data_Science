{
 "cells": [
  {
   "cell_type": "markdown",
   "id": "9cfd196b-01df-41df-a445-b55bace5243b",
   "metadata": {},
   "source": [
    "## 26. Remove Duplicates from Sorted Array"
   ]
  },
  {
   "cell_type": "code",
   "execution_count": 27,
   "id": "5839fa02-9c02-46a5-85fb-6a1f59c76d70",
   "metadata": {},
   "outputs": [
    {
     "name": "stdout",
     "output_type": "stream",
     "text": [
      "2\n",
      "%%%%%%%%%% Outer Iteration 0 %%%%%%%%%%\n",
      "Counter= 1\n",
      "%%%%%%%%%% Outer Iteration 1 %%%%%%%%%%\n",
      "Counter= 2\n"
     ]
    },
    {
     "ename": "IndexError",
     "evalue": "list index out of range",
     "output_type": "error",
     "traceback": [
      "\u001b[0;31m---------------------------------------------------------------------------\u001b[0m",
      "\u001b[0;31mIndexError\u001b[0m                                Traceback (most recent call last)",
      "Cell \u001b[0;32mIn[27], line 54\u001b[0m\n\u001b[1;32m     52\u001b[0m sol \u001b[38;5;241m=\u001b[39m Solution()\n\u001b[1;32m     53\u001b[0m \u001b[38;5;66;03m# Solution().removeDuplicates(nums)\u001b[39;00m\n\u001b[0;32m---> 54\u001b[0m sol\u001b[38;5;241m.\u001b[39mremoveDuplicates(lst)\n",
      "Cell \u001b[0;32mIn[27], line 29\u001b[0m, in \u001b[0;36mSolution.removeDuplicates\u001b[0;34m(self, nums)\u001b[0m\n\u001b[1;32m     27\u001b[0m     \u001b[38;5;28miter\u001b[39m\u001b[38;5;241m+\u001b[39m\u001b[38;5;241m=\u001b[39m\u001b[38;5;241m1\u001b[39m\n\u001b[1;32m     28\u001b[0m     \u001b[38;5;66;03m# entered_loop = True\u001b[39;00m\n\u001b[0;32m---> 29\u001b[0m \u001b[38;5;28;01mif\u001b[39;00m nums[pointer\u001b[38;5;241m+\u001b[39m\u001b[38;5;241m1\u001b[39m]\u001b[38;5;241m>\u001b[39mnums[pointer]:\n\u001b[1;32m     30\u001b[0m     entered_loop \u001b[38;5;241m=\u001b[39m \u001b[38;5;28;01mTrue\u001b[39;00m\n\u001b[1;32m     31\u001b[0m pointer\u001b[38;5;241m+\u001b[39m\u001b[38;5;241m=\u001b[39m\u001b[38;5;241m1\u001b[39m\n",
      "\u001b[0;31mIndexError\u001b[0m: list index out of range"
     ]
    }
   ],
   "source": [
    "from typing import List  # This line is needed to use List as a type hint\n",
    "\n",
    "class Solution:\n",
    "    def removeDuplicates(self, nums: List[int]) -> int:\n",
    "        # pointer = len(nums)\n",
    "        # iter = pointer - 1\n",
    "        pointer = 0\n",
    "        entered_loop = False\n",
    "        # iter = 1\n",
    "        l = len(nums)\n",
    "        print(l)\n",
    "        k = 1 \n",
    "        while pointer < l:\n",
    "            print(\"%\"*10, \"Outer Iteration\", pointer, \"%\"*10)\n",
    "            \n",
    "            if entered_loop:\n",
    "                k+=1\n",
    "                entered_loop = False\n",
    "            print(\"Counter=\", k)\n",
    "            iter = pointer + 1\n",
    "            # entered_loop = False\n",
    "            while pointer < l-1 and (nums[pointer+1] <= nums[pointer]) and iter+1 < l:\n",
    "                print(\"*\"*10, \"Inner Iteration\", pointer,\"-\",iter, \"*\"*10)\n",
    "                print(\"Iter=\", iter, \" Iter+1=\", iter+1)\n",
    "                nums[pointer+1] = nums[iter+1] #if iter+1<l else nums[iter]\n",
    "                print(nums)\n",
    "                iter+=1\n",
    "                # entered_loop = True\n",
    "            if nums[pointer+1]>nums[pointer]:\n",
    "                entered_loop = True\n",
    "            pointer+=1\n",
    "\n",
    "        print(nums)\n",
    "        return k\n",
    "\n",
    "        # while pointer <= l:\n",
    "        #     iter = pointer + 1\n",
    "        #     k+=1\n",
    "        #     while iter <= l:\n",
    "        #         # if nums[pointer] >= nums[iter]:\n",
    "        #         if nums[iter] <= nums[pointer]:\n",
    "        #             # nums[pointer] = nums[iter]\n",
    "        #             # nums[iter-1] = nums[iter]\n",
    "        #             nums[iter] = nums[iter+1]\n",
    "        #             # nums[pointer+1] = nums[iter]\n",
    "        #         iter += 1\n",
    "        #     pointer += 1\n",
    "\n",
    "# lst = [0,0,1,1,1,2,2,3,3,4]\n",
    "# lst = [1, 1, 2]\n",
    "lst = [1, 2]\n",
    "sol = Solution()\n",
    "# Solution().removeDuplicates(nums)\n",
    "sol.removeDuplicates(lst)"
   ]
  },
  {
   "cell_type": "code",
   "execution_count": null,
   "id": "fb6941b2-2dcd-408f-8077-cf686bfcbab3",
   "metadata": {},
   "outputs": [],
   "source": []
  }
 ],
 "metadata": {
  "kernelspec": {
   "display_name": "Python 3 (ipykernel)",
   "language": "python",
   "name": "python3"
  },
  "language_info": {
   "codemirror_mode": {
    "name": "ipython",
    "version": 3
   },
   "file_extension": ".py",
   "mimetype": "text/x-python",
   "name": "python",
   "nbconvert_exporter": "python",
   "pygments_lexer": "ipython3",
   "version": "3.11.0"
  }
 },
 "nbformat": 4,
 "nbformat_minor": 5
}
