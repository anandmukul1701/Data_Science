{
 "cells": [
  {
   "cell_type": "markdown",
   "id": "fe1abffe",
   "metadata": {},
   "source": [
    "# Assignment 6"
   ]
  },
  {
   "cell_type": "markdown",
   "id": "849532df",
   "metadata": {},
   "source": [
    "# Problem Statement<br>\n",
    "\n",
    "**Output variable -> y**<br>\n",
    "#### y -> Whether the client has subscribed a term deposit or not <br>\n",
    "Binomial (\"yes\" or \"no\")<br>\n",
    "\n",
    "**Attribute information For bank dataset**<br>\n",
    "\n",
    "#### Input variables:**<br>\n",
    "**Bank client data:**<br>\n",
    "1 - age (numeric)<br>\n",
    "2 - job : type of job (categorical: \"admin.\",\"unknown\",\"unemployed\",\"management\",\"housemaid\",\"entrepreneur\",\"student\",\n",
    "                                   \"blue-collar\",\"self-employed\",\"retired\",\"technician\",\"services\") <br>\n",
    "3 - marital : marital status (categorical: \"married\",\"divorced\",\"single\"; note: \"divorced\" means divorced or widowed)\n",
    "4 - education (categorical: \"unknown\",\"secondary\",\"primary\",\"tertiary\")<br>\n",
    "5 - default: has credit in default? (binary: \"yes\",\"no\")<br>\n",
    "6 - balance: average yearly balance, in euros (numeric) <br>\n",
    "7 - housing: has housing loan? (binary: \"yes\",\"no\")<br>\n",
    "8 - loan: has personal loan? (binary: \"yes\",\"no\")<br>\n",
    "\n",
    "\n",
    "**Related with the last contact of the current campaign:**<br>\n",
    "9 - contact: contact communication type (categorical: \"unknown\",\"telephone\",\"cellular\") <br>\n",
    "10 - day: last contact day of the month (numeric)<br>\n",
    "11 - month: last contact month of year (categorical: \"jan\", \"feb\", \"mar\", ..., \"nov\", \"dec\")<br>\n",
    "12 - duration: last contact duration, in seconds (numeric)<br>\n",
    "\n",
    "**Other Attributes:**<br>\n",
    "13 - campaign: number of contacts performed during this campaign and for this client (numeric, includes last contact)<br>\n",
    "14 - pdays: number of days that passed by after the client was last contacted from a previous campaign (numeric, -1 means client was not previously contacted)\n",
    "15 - previous: number of contacts performed before this campaign and for this client (numeric)\n",
    "16 - poutcome: outcome of the previous marketing campaign (categorical: \"unknown\",\"other\",\"failure\",\"success\")\n",
    "\n",
    "**Output variable (desired target):**\n",
    "17 - y - has the client subscribed a term deposit? (binary: \"yes\",\"no\")\n",
    "\n",
    "8. Missing Attribute Values: None\n"
   ]
  },
  {
   "cell_type": "code",
   "execution_count": null,
   "id": "fe6b46ae",
   "metadata": {},
   "outputs": [],
   "source": []
  }
 ],
 "metadata": {
  "kernelspec": {
   "display_name": "Python 3 (ipykernel)",
   "language": "python",
   "name": "python3"
  },
  "language_info": {
   "codemirror_mode": {
    "name": "ipython",
    "version": 3
   },
   "file_extension": ".py",
   "mimetype": "text/x-python",
   "name": "python",
   "nbconvert_exporter": "python",
   "pygments_lexer": "ipython3",
   "version": "3.9.7"
  }
 },
 "nbformat": 4,
 "nbformat_minor": 5
}
