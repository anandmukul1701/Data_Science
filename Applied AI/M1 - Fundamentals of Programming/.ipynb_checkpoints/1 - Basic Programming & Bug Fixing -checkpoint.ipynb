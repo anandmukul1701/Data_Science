{
 "cells": [
  {
   "cell_type": "markdown",
   "id": "399289c7",
   "metadata": {},
   "source": [
    "### Problem 1: Add two randomly generated NumPy matrices using loops \n",
    "    - Sub-problems\n",
    "    - Subproblems ---> coding concepts\n",
    "    - Code-walkthrough + Mistakes\n",
    "    - Exercise: Add two randomly generated NumPy 3D-matrices(tensor) using loops "
   ]
  },
  {
   "cell_type": "code",
   "execution_count": 1,
   "id": "b5a1fbb5",
   "metadata": {
    "scrolled": true
   },
   "outputs": [
    {
     "name": "stdout",
     "output_type": "stream",
     "text": [
      "[[0.39870995 0.08642899 0.66749755 0.57697471]\n",
      " [0.13115363 0.49410112 0.64045787 0.68094147]\n",
      " [0.00820841 0.44322864 0.14507299 0.46567297]\n",
      " [0.54768734 0.22812168 0.9633769  0.35389528]\n",
      " [0.2379572  0.31874548 0.1718789  0.10122997]]\n",
      "(5, 4)\n"
     ]
    }
   ],
   "source": [
    "import numpy as np\n",
    "A1 = np.random.rand(5,4)\n",
    "print(A1)\n",
    "print(A1.shape)"
   ]
  },
  {
   "cell_type": "code",
   "execution_count": 2,
   "id": "398b731a",
   "metadata": {},
   "outputs": [
    {
     "name": "stdout",
     "output_type": "stream",
     "text": [
      "[[0.49872697 0.63625921 0.9234506  0.45117654]\n",
      " [0.20058042 0.00935222 0.26992228 0.90117194]\n",
      " [0.56753559 0.06472561 0.24064277 0.32115609]\n",
      " [0.5325471  0.00205502 0.11411808 0.72392843]\n",
      " [0.80931734 0.16155924 0.08461163 0.65082806]]\n",
      "(5, 4)\n"
     ]
    }
   ],
   "source": [
    "A2 = np.random.rand(5,4)\n",
    "print(A2)\n",
    "print(A2.shape)"
   ]
  },
  {
   "cell_type": "code",
   "execution_count": 10,
   "id": "ebb88642",
   "metadata": {},
   "outputs": [],
   "source": [
    "A3 = np.empty((5,4))"
   ]
  },
  {
   "cell_type": "code",
   "execution_count": 11,
   "id": "cd521e7c",
   "metadata": {},
   "outputs": [
    {
     "name": "stdout",
     "output_type": "stream",
     "text": [
      "[[0.89743692 0.7226882  1.59094814 1.02815125]\n",
      " [0.33173405 0.50345334 0.91038016 1.58211342]\n",
      " [0.575744   0.50795424 0.38571576 0.78682907]\n",
      " [1.08023443 0.2301767  1.07749498 1.0778237 ]\n",
      " [1.04727454 0.48030472 0.25649053 0.75205802]]\n"
     ]
    }
   ],
   "source": [
    "for row in range(A1.shape[0]):\n",
    "    for col in range(A1.shape[1]):\n",
    "        A3[row][col] = A1[row][col]+A2[row][col]\n",
    "        \n",
    "print(A3)"
   ]
  },
  {
   "cell_type": "code",
   "execution_count": 12,
   "id": "e6cc2b84",
   "metadata": {},
   "outputs": [
    {
     "data": {
      "text/plain": [
       "array([[0.89743692, 0.7226882 , 1.59094814, 1.02815125],\n",
       "       [0.33173405, 0.50345334, 0.91038016, 1.58211342],\n",
       "       [0.575744  , 0.50795424, 0.38571576, 0.78682907],\n",
       "       [1.08023443, 0.2301767 , 1.07749498, 1.0778237 ],\n",
       "       [1.04727454, 0.48030472, 0.25649053, 0.75205802]])"
      ]
     },
     "execution_count": 12,
     "metadata": {},
     "output_type": "execute_result"
    }
   ],
   "source": [
    "A1+A2"
   ]
  },
  {
   "cell_type": "code",
   "execution_count": 13,
   "id": "30cc6c5b",
   "metadata": {},
   "outputs": [
    {
     "name": "stdout",
     "output_type": "stream",
     "text": [
      "[[[0.09342492 0.93993271 0.20829404]\n",
      "  [0.37754097 0.46754713 0.71640211]\n",
      "  [0.98175469 0.8770292  0.75868558]]\n",
      "\n",
      " [[0.02123514 0.24017958 0.08661379]\n",
      "  [0.76547127 0.94173107 0.41899644]\n",
      "  [0.62117633 0.54039548 0.57145472]]\n",
      "\n",
      " [[0.88657733 0.95915065 0.22521718]\n",
      "  [0.98871355 0.75774112 0.64656737]\n",
      "  [0.37040494 0.28359224 0.23255437]]]\n",
      "(3, 3, 3)\n"
     ]
    }
   ],
   "source": [
    "B1 = np.random.rand(3,3,3)\n",
    "print(B1)\n",
    "print(B1.shape)"
   ]
  },
  {
   "cell_type": "code",
   "execution_count": 14,
   "id": "9919250e",
   "metadata": {},
   "outputs": [
    {
     "name": "stdout",
     "output_type": "stream",
     "text": [
      "[[[0.37249895 0.55712067 0.94649054]\n",
      "  [0.17768933 0.5054884  0.90626888]\n",
      "  [0.43569012 0.82118754 0.88578738]]\n",
      "\n",
      " [[0.56978924 0.11478287 0.18166819]\n",
      "  [0.74231602 0.79634713 0.6296495 ]\n",
      "  [0.24192699 0.34247994 0.81392619]]\n",
      "\n",
      " [[0.54433515 0.96753838 0.72642481]\n",
      "  [0.3455172  0.45920359 0.51419162]\n",
      "  [0.51221671 0.55439802 0.38161087]]]\n",
      "(3, 3, 3)\n"
     ]
    }
   ],
   "source": [
    "B2 = np.random.rand(3,3,3)\n",
    "print(B2)\n",
    "print(B2.shape)"
   ]
  },
  {
   "cell_type": "code",
   "execution_count": 16,
   "id": "8f658234",
   "metadata": {},
   "outputs": [
    {
     "name": "stdout",
     "output_type": "stream",
     "text": [
      "[[[0.37249895 0.55712067 0.94649054]\n",
      "  [0.17768933 0.5054884  0.90626888]\n",
      "  [0.43569012 0.82118754 0.88578738]]\n",
      "\n",
      " [[0.56978924 0.11478287 0.18166819]\n",
      "  [0.74231602 0.79634713 0.6296495 ]\n",
      "  [0.24192699 0.34247994 0.81392619]]\n",
      "\n",
      " [[0.54433515 0.96753838 0.72642481]\n",
      "  [0.3455172  0.45920359 0.51419162]\n",
      "  [0.51221671 0.55439802 0.38161087]]]\n"
     ]
    }
   ],
   "source": [
    "B3 = np.empty((3,3,3))\n",
    "print(B3)"
   ]
  },
  {
   "cell_type": "code",
   "execution_count": 18,
   "id": "001cf9d2",
   "metadata": {},
   "outputs": [
    {
     "name": "stdout",
     "output_type": "stream",
     "text": [
      "[[[0.46592387 1.49705338 1.15478457]\n",
      "  [0.5552303  0.97303552 1.62267099]\n",
      "  [1.4174448  1.69821673 1.64447296]]\n",
      "\n",
      " [[0.59102438 0.35496244 0.26828198]\n",
      "  [1.50778728 1.7380782  1.04864594]\n",
      "  [0.86310332 0.88287542 1.38538091]]\n",
      "\n",
      " [[1.43091248 1.92668904 0.95164199]\n",
      "  [1.33423074 1.21694472 1.160759  ]\n",
      "  [0.88262165 0.83799027 0.61416523]]]\n"
     ]
    }
   ],
   "source": [
    "for row in range(B1.shape[0]):\n",
    "    for col in range(B1.shape[1]):\n",
    "        for depth in range(B1.shape[2]):\n",
    "            B3[row][col][depth] = B1[row][col][depth]+B2[row][col][depth]\n",
    "        \n",
    "print(B3)"
   ]
  },
  {
   "cell_type": "code",
   "execution_count": 19,
   "id": "acc27c80",
   "metadata": {},
   "outputs": [
    {
     "name": "stdout",
     "output_type": "stream",
     "text": [
      "3.9.7 (default, Sep 16 2021, 08:50:36) \n",
      "[Clang 10.0.0 ]\n"
     ]
    }
   ],
   "source": [
    "import sys\n",
    "print(sys.version)"
   ]
  },
  {
   "cell_type": "code",
   "execution_count": 20,
   "id": "5d530353",
   "metadata": {},
   "outputs": [
    {
     "name": "stdout",
     "output_type": "stream",
     "text": [
      "[1, 3, 4, 5, 7, 6, 4, 5, 10, 1]\n"
     ]
    }
   ],
   "source": [
    "A = [1,3,4,5,7,6,4,5,10,1] \n",
    "print(A)"
   ]
  },
  {
   "cell_type": "code",
   "execution_count": 21,
   "id": "859a4dbd",
   "metadata": {},
   "outputs": [
    {
     "name": "stdout",
     "output_type": "stream",
     "text": [
      "[7, 10]\n"
     ]
    }
   ],
   "source": [
    "peaks = []\n",
    "for i in range(1,len(A)):\n",
    "    if A[i] > A[i-1] and A[i] > A[i+1]:\n",
    "        peaks.append(A[i])\n",
    "        \n",
    "print(peaks)"
   ]
  },
  {
   "cell_type": "code",
   "execution_count": 22,
   "id": "14f736b9",
   "metadata": {
    "collapsed": true
   },
   "outputs": [
    {
     "data": {
      "text/plain": [
       "['__add__',\n",
       " '__class__',\n",
       " '__class_getitem__',\n",
       " '__contains__',\n",
       " '__delattr__',\n",
       " '__delitem__',\n",
       " '__dir__',\n",
       " '__doc__',\n",
       " '__eq__',\n",
       " '__format__',\n",
       " '__ge__',\n",
       " '__getattribute__',\n",
       " '__getitem__',\n",
       " '__gt__',\n",
       " '__hash__',\n",
       " '__iadd__',\n",
       " '__imul__',\n",
       " '__init__',\n",
       " '__init_subclass__',\n",
       " '__iter__',\n",
       " '__le__',\n",
       " '__len__',\n",
       " '__lt__',\n",
       " '__mul__',\n",
       " '__ne__',\n",
       " '__new__',\n",
       " '__reduce__',\n",
       " '__reduce_ex__',\n",
       " '__repr__',\n",
       " '__reversed__',\n",
       " '__rmul__',\n",
       " '__setattr__',\n",
       " '__setitem__',\n",
       " '__sizeof__',\n",
       " '__str__',\n",
       " '__subclasshook__',\n",
       " 'append',\n",
       " 'clear',\n",
       " 'copy',\n",
       " 'count',\n",
       " 'extend',\n",
       " 'index',\n",
       " 'insert',\n",
       " 'pop',\n",
       " 'remove',\n",
       " 'reverse',\n",
       " 'sort']"
      ]
     },
     "execution_count": 22,
     "metadata": {},
     "output_type": "execute_result"
    }
   ],
   "source": [
    "dir(A)"
   ]
  },
  {
   "cell_type": "code",
   "execution_count": 23,
   "id": "a0ac7fef",
   "metadata": {},
   "outputs": [],
   "source": [
    "A = [1,2,3,4]"
   ]
  },
  {
   "cell_type": "code",
   "execution_count": 24,
   "id": "6ebf3f3f",
   "metadata": {},
   "outputs": [
    {
     "data": {
      "text/plain": [
       "<itertools.permutations at 0x7fe1d1c9a9f0>"
      ]
     },
     "execution_count": 24,
     "metadata": {},
     "output_type": "execute_result"
    }
   ],
   "source": [
    "from itertools import permutations\n",
    "permutations(A)"
   ]
  },
  {
   "cell_type": "code",
   "execution_count": 25,
   "id": "229d9d3a",
   "metadata": {},
   "outputs": [
    {
     "name": "stdout",
     "output_type": "stream",
     "text": [
      "<itertools.permutations object at 0x7fe1c0a696d0>\n"
     ]
    }
   ],
   "source": [
    "print(permutations(A))"
   ]
  },
  {
   "cell_type": "code",
   "execution_count": 26,
   "id": "be91966e",
   "metadata": {},
   "outputs": [
    {
     "data": {
      "text/plain": [
       "itertools.permutations"
      ]
     },
     "execution_count": 26,
     "metadata": {},
     "output_type": "execute_result"
    }
   ],
   "source": [
    "type(permutations(A))"
   ]
  },
  {
   "cell_type": "code",
   "execution_count": 27,
   "id": "f646eed7",
   "metadata": {},
   "outputs": [
    {
     "name": "stdout",
     "output_type": "stream",
     "text": [
      "(1, 2, 3, 4)\n",
      "(1, 2, 4, 3)\n",
      "(1, 3, 2, 4)\n",
      "(1, 3, 4, 2)\n",
      "(1, 4, 2, 3)\n",
      "(1, 4, 3, 2)\n",
      "(2, 1, 3, 4)\n",
      "(2, 1, 4, 3)\n",
      "(2, 3, 1, 4)\n",
      "(2, 3, 4, 1)\n",
      "(2, 4, 1, 3)\n",
      "(2, 4, 3, 1)\n",
      "(3, 1, 2, 4)\n",
      "(3, 1, 4, 2)\n",
      "(3, 2, 1, 4)\n",
      "(3, 2, 4, 1)\n",
      "(3, 4, 1, 2)\n",
      "(3, 4, 2, 1)\n",
      "(4, 1, 2, 3)\n",
      "(4, 1, 3, 2)\n",
      "(4, 2, 1, 3)\n",
      "(4, 2, 3, 1)\n",
      "(4, 3, 1, 2)\n",
      "(4, 3, 2, 1)\n"
     ]
    }
   ],
   "source": [
    "for i in list(permutations(A)):\n",
    "    print(i)"
   ]
  },
  {
   "cell_type": "code",
   "execution_count": null,
   "id": "19845669",
   "metadata": {},
   "outputs": [],
   "source": [
    " def perm(L):\n",
    "        "
   ]
  },
  {
   "cell_type": "code",
   "execution_count": 30,
   "id": "e691e939",
   "metadata": {},
   "outputs": [],
   "source": [
    "import math as m"
   ]
  },
  {
   "cell_type": "code",
   "execution_count": null,
   "id": "6fcf219b",
   "metadata": {},
   "outputs": [],
   "source": []
  }
 ],
 "metadata": {
  "kernelspec": {
   "display_name": "Python 3 (ipykernel)",
   "language": "python",
   "name": "python3"
  },
  "language_info": {
   "codemirror_mode": {
    "name": "ipython",
    "version": 3
   },
   "file_extension": ".py",
   "mimetype": "text/x-python",
   "name": "python",
   "nbconvert_exporter": "python",
   "pygments_lexer": "ipython3",
   "version": "3.9.7"
  }
 },
 "nbformat": 4,
 "nbformat_minor": 5
}
