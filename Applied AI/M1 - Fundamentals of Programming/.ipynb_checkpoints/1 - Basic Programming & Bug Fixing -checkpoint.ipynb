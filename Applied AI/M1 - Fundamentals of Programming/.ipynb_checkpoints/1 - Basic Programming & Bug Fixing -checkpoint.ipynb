{
 "cells": [
  {
   "attachments": {},
   "cell_type": "markdown",
   "id": "399289c7",
   "metadata": {},
   "source": [
    "### Problem 1: Add two randomly generated NumPy matrices using loops \n",
    "    - Sub-problems\n",
    "    - Subproblems ---> coding concepts\n",
    "    - Code-walkthrough + Mistakes\n",
    "    - Exercise: Add two randomly generated NumPy 3D-matrices(tensor) using loops "
   ]
  },
  {
   "cell_type": "code",
   "execution_count": 1,
   "id": "b5a1fbb5",
   "metadata": {
    "scrolled": true
   },
   "outputs": [
    {
     "name": "stdout",
     "output_type": "stream",
     "text": [
      "[[0.94538854 0.13641418 0.48930082 0.4265157 ]\n",
      " [0.56459621 0.2493679  0.44381418 0.96305614]\n",
      " [0.33371755 0.62257747 0.1964723  0.75767245]\n",
      " [0.03172115 0.80489754 0.79344721 0.89814997]\n",
      " [0.72669598 0.75453016 0.49091577 0.90214667]]\n",
      "(5, 4)\n"
     ]
    }
   ],
   "source": [
    "import numpy as np\n",
    "A1 = np.random.rand(5,4)\n",
    "print(A1)\n",
    "print(A1.shape)"
   ]
  },
  {
   "cell_type": "code",
   "execution_count": 2,
   "id": "398b731a",
   "metadata": {},
   "outputs": [
    {
     "name": "stdout",
     "output_type": "stream",
     "text": [
      "[[0.58148057 0.68939859 0.13825985 0.48923041]\n",
      " [0.27373869 0.70367422 0.77911716 0.76835815]\n",
      " [0.09005849 0.82860455 0.96462761 0.29097614]\n",
      " [0.51500759 0.53059763 0.67032884 0.83097194]\n",
      " [0.82849318 0.43775481 0.18874751 0.81768943]]\n",
      "(5, 4)\n"
     ]
    }
   ],
   "source": [
    "A2 = np.random.rand(5,4)\n",
    "print(A2)\n",
    "print(A2.shape)"
   ]
  },
  {
   "cell_type": "code",
   "execution_count": 3,
   "id": "ebb88642",
   "metadata": {},
   "outputs": [],
   "source": [
    "A3 = np.empty((5,4))"
   ]
  },
  {
   "cell_type": "code",
   "execution_count": 4,
   "id": "cd521e7c",
   "metadata": {},
   "outputs": [
    {
     "name": "stdout",
     "output_type": "stream",
     "text": [
      "[[1.52686911 0.82581277 0.62756067 0.91574611]\n",
      " [0.83833489 0.95304211 1.22293134 1.73141429]\n",
      " [0.42377604 1.45118202 1.1610999  1.04864859]\n",
      " [0.54672873 1.33549517 1.46377605 1.72912191]\n",
      " [1.55518916 1.19228498 0.67966328 1.7198361 ]]\n"
     ]
    }
   ],
   "source": [
    "for row in range(A1.shape[0]):\n",
    "    for col in range(A1.shape[1]):\n",
    "        A3[row][col] = A1[row][col]+A2[row][col]\n",
    "        \n",
    "print(A3)"
   ]
  },
  {
   "cell_type": "code",
   "execution_count": 5,
   "id": "e6cc2b84",
   "metadata": {},
   "outputs": [
    {
     "data": {
      "text/plain": [
       "array([[1.52686911, 0.82581277, 0.62756067, 0.91574611],\n",
       "       [0.83833489, 0.95304211, 1.22293134, 1.73141429],\n",
       "       [0.42377604, 1.45118202, 1.1610999 , 1.04864859],\n",
       "       [0.54672873, 1.33549517, 1.46377605, 1.72912191],\n",
       "       [1.55518916, 1.19228498, 0.67966328, 1.7198361 ]])"
      ]
     },
     "execution_count": 5,
     "metadata": {},
     "output_type": "execute_result"
    }
   ],
   "source": [
    "A1+A2"
   ]
  },
  {
   "cell_type": "code",
   "execution_count": 6,
   "id": "30cc6c5b",
   "metadata": {},
   "outputs": [
    {
     "name": "stdout",
     "output_type": "stream",
     "text": [
      "[[[0.73603655 0.945001   0.30548098]\n",
      "  [0.90792987 0.310114   0.22389319]\n",
      "  [0.35215468 0.45006135 0.06547235]]\n",
      "\n",
      " [[0.63942553 0.53877835 0.04009515]\n",
      "  [0.48231073 0.67138883 0.39292422]\n",
      "  [0.39025949 0.47040896 0.24829043]]\n",
      "\n",
      " [[0.20469989 0.34026065 0.75539058]\n",
      "  [0.12262077 0.71794661 0.84647733]\n",
      "  [0.79343447 0.88816439 0.06045279]]]\n",
      "(3, 3, 3)\n"
     ]
    }
   ],
   "source": [
    "B1 = np.random.rand(3,3,3)\n",
    "print(B1)\n",
    "print(B1.shape)"
   ]
  },
  {
   "cell_type": "code",
   "execution_count": 7,
   "id": "9919250e",
   "metadata": {},
   "outputs": [
    {
     "name": "stdout",
     "output_type": "stream",
     "text": [
      "[[[0.73031174 0.8725203  0.30601388]\n",
      "  [0.12275605 0.04417326 0.03456811]\n",
      "  [0.77406807 0.4675186  0.66070403]]\n",
      "\n",
      " [[0.06478357 0.09009073 0.9194373 ]\n",
      "  [0.33779704 0.3037834  0.08647554]\n",
      "  [0.40870673 0.00138963 0.01329498]]\n",
      "\n",
      " [[0.25968265 0.91784478 0.41536559]\n",
      "  [0.16398352 0.74892487 0.10051087]\n",
      "  [0.79282565 0.07332411 0.35685356]]]\n",
      "(3, 3, 3)\n"
     ]
    }
   ],
   "source": [
    "B2 = np.random.rand(3,3,3)\n",
    "print(B2)\n",
    "print(B2.shape)"
   ]
  },
  {
   "cell_type": "code",
   "execution_count": 8,
   "id": "8f658234",
   "metadata": {},
   "outputs": [
    {
     "name": "stdout",
     "output_type": "stream",
     "text": [
      "[[[0.73031174 0.8725203  0.30601388]\n",
      "  [0.12275605 0.04417326 0.03456811]\n",
      "  [0.77406807 0.4675186  0.66070403]]\n",
      "\n",
      " [[0.06478357 0.09009073 0.9194373 ]\n",
      "  [0.33779704 0.3037834  0.08647554]\n",
      "  [0.40870673 0.00138963 0.01329498]]\n",
      "\n",
      " [[0.25968265 0.91784478 0.41536559]\n",
      "  [0.16398352 0.74892487 0.10051087]\n",
      "  [0.79282565 0.07332411 0.35685356]]]\n"
     ]
    }
   ],
   "source": [
    "B3 = np.empty((3,3,3))\n",
    "print(B3)"
   ]
  },
  {
   "cell_type": "code",
   "execution_count": 9,
   "id": "001cf9d2",
   "metadata": {},
   "outputs": [
    {
     "name": "stdout",
     "output_type": "stream",
     "text": [
      "[[[1.46634829 1.8175213  0.61149486]\n",
      "  [1.03068592 0.35428725 0.2584613 ]\n",
      "  [1.12622274 0.91757995 0.72617638]]\n",
      "\n",
      " [[0.70420911 0.62886908 0.95953245]\n",
      "  [0.82010777 0.97517223 0.47939976]\n",
      "  [0.79896622 0.47179859 0.2615854 ]]\n",
      "\n",
      " [[0.46438253 1.25810542 1.17075618]\n",
      "  [0.28660429 1.46687148 0.9469882 ]\n",
      "  [1.58626012 0.96148849 0.41730636]]]\n"
     ]
    }
   ],
   "source": [
    "for row in range(B1.shape[0]):\n",
    "    for col in range(B1.shape[1]):\n",
    "        for depth in range(B1.shape[2]):\n",
    "            B3[row][col][depth] = B1[row][col][depth]+B2[row][col][depth]\n",
    "        \n",
    "print(B3)"
   ]
  },
  {
   "cell_type": "code",
   "execution_count": 10,
   "id": "acc27c80",
   "metadata": {},
   "outputs": [
    {
     "name": "stdout",
     "output_type": "stream",
     "text": [
      "3.9.7 (default, Sep 16 2021, 08:50:36) \n",
      "[Clang 10.0.0 ]\n"
     ]
    }
   ],
   "source": [
    "import sys\n",
    "print(sys.version)"
   ]
  },
  {
   "cell_type": "code",
   "execution_count": 11,
   "id": "5d530353",
   "metadata": {},
   "outputs": [
    {
     "name": "stdout",
     "output_type": "stream",
     "text": [
      "[1, 3, 4, 5, 7, 6, 4, 5, 10, 1]\n"
     ]
    }
   ],
   "source": [
    "A = [1,3,4,5,7,6,4,5,10,1] \n",
    "print(A)"
   ]
  },
  {
   "cell_type": "code",
   "execution_count": 12,
   "id": "859a4dbd",
   "metadata": {},
   "outputs": [
    {
     "name": "stdout",
     "output_type": "stream",
     "text": [
      "[7, 10]\n"
     ]
    }
   ],
   "source": [
    "peaks = []\n",
    "for i in range(1,len(A)):\n",
    "    if A[i] > A[i-1] and A[i] > A[i+1]:\n",
    "        peaks.append(A[i])\n",
    "        \n",
    "print(peaks)"
   ]
  },
  {
   "cell_type": "code",
   "execution_count": 13,
   "id": "14f736b9",
   "metadata": {
    "collapsed": true
   },
   "outputs": [
    {
     "data": {
      "text/plain": [
       "['__add__',\n",
       " '__class__',\n",
       " '__class_getitem__',\n",
       " '__contains__',\n",
       " '__delattr__',\n",
       " '__delitem__',\n",
       " '__dir__',\n",
       " '__doc__',\n",
       " '__eq__',\n",
       " '__format__',\n",
       " '__ge__',\n",
       " '__getattribute__',\n",
       " '__getitem__',\n",
       " '__gt__',\n",
       " '__hash__',\n",
       " '__iadd__',\n",
       " '__imul__',\n",
       " '__init__',\n",
       " '__init_subclass__',\n",
       " '__iter__',\n",
       " '__le__',\n",
       " '__len__',\n",
       " '__lt__',\n",
       " '__mul__',\n",
       " '__ne__',\n",
       " '__new__',\n",
       " '__reduce__',\n",
       " '__reduce_ex__',\n",
       " '__repr__',\n",
       " '__reversed__',\n",
       " '__rmul__',\n",
       " '__setattr__',\n",
       " '__setitem__',\n",
       " '__sizeof__',\n",
       " '__str__',\n",
       " '__subclasshook__',\n",
       " 'append',\n",
       " 'clear',\n",
       " 'copy',\n",
       " 'count',\n",
       " 'extend',\n",
       " 'index',\n",
       " 'insert',\n",
       " 'pop',\n",
       " 'remove',\n",
       " 'reverse',\n",
       " 'sort']"
      ]
     },
     "execution_count": 13,
     "metadata": {},
     "output_type": "execute_result"
    }
   ],
   "source": [
    "dir(A)"
   ]
  },
  {
   "cell_type": "code",
   "execution_count": 14,
   "id": "a0ac7fef",
   "metadata": {},
   "outputs": [],
   "source": [
    "A = [1,2,3,4]"
   ]
  },
  {
   "cell_type": "code",
   "execution_count": 15,
   "id": "6ebf3f3f",
   "metadata": {},
   "outputs": [
    {
     "data": {
      "text/plain": [
       "<itertools.permutations at 0x7fb4b1794a40>"
      ]
     },
     "execution_count": 15,
     "metadata": {},
     "output_type": "execute_result"
    }
   ],
   "source": [
    "from itertools import permutations\n",
    "permutations(A)"
   ]
  },
  {
   "cell_type": "code",
   "execution_count": 16,
   "id": "229d9d3a",
   "metadata": {},
   "outputs": [
    {
     "name": "stdout",
     "output_type": "stream",
     "text": [
      "<itertools.permutations object at 0x7fb4b18bfd10>\n"
     ]
    }
   ],
   "source": [
    "print(permutations(A))"
   ]
  },
  {
   "cell_type": "code",
   "execution_count": 17,
   "id": "be91966e",
   "metadata": {},
   "outputs": [
    {
     "data": {
      "text/plain": [
       "itertools.permutations"
      ]
     },
     "execution_count": 17,
     "metadata": {},
     "output_type": "execute_result"
    }
   ],
   "source": [
    "type(permutations(A))"
   ]
  },
  {
   "cell_type": "code",
   "execution_count": 18,
   "id": "f646eed7",
   "metadata": {},
   "outputs": [
    {
     "name": "stdout",
     "output_type": "stream",
     "text": [
      "(1, 2, 3, 4)\n",
      "(1, 2, 4, 3)\n",
      "(1, 3, 2, 4)\n",
      "(1, 3, 4, 2)\n",
      "(1, 4, 2, 3)\n",
      "(1, 4, 3, 2)\n",
      "(2, 1, 3, 4)\n",
      "(2, 1, 4, 3)\n",
      "(2, 3, 1, 4)\n",
      "(2, 3, 4, 1)\n",
      "(2, 4, 1, 3)\n",
      "(2, 4, 3, 1)\n",
      "(3, 1, 2, 4)\n",
      "(3, 1, 4, 2)\n",
      "(3, 2, 1, 4)\n",
      "(3, 2, 4, 1)\n",
      "(3, 4, 1, 2)\n",
      "(3, 4, 2, 1)\n",
      "(4, 1, 2, 3)\n",
      "(4, 1, 3, 2)\n",
      "(4, 2, 1, 3)\n",
      "(4, 2, 3, 1)\n",
      "(4, 3, 1, 2)\n",
      "(4, 3, 2, 1)\n"
     ]
    }
   ],
   "source": [
    "for i in list(permutations(A)):\n",
    "    print(i)"
   ]
  },
  {
   "cell_type": "code",
   "execution_count": 19,
   "id": "19845669",
   "metadata": {},
   "outputs": [
    {
     "ename": "IndentationError",
     "evalue": "expected an indented block (3027453391.py, line 2)",
     "output_type": "error",
     "traceback": [
      "\u001b[0;36m  File \u001b[0;32m\"/var/folders/p_/fs2tb7r13c534frxmkk64z4w0000gn/T/ipykernel_12492/3027453391.py\"\u001b[0;36m, line \u001b[0;32m2\u001b[0m\n\u001b[0;31m    \u001b[0m\n\u001b[0m    ^\u001b[0m\n\u001b[0;31mIndentationError\u001b[0m\u001b[0;31m:\u001b[0m expected an indented block\n"
     ]
    }
   ],
   "source": [
    "def perm(L):\n",
    "        "
   ]
  },
  {
   "cell_type": "code",
   "execution_count": 30,
   "id": "e691e939",
   "metadata": {},
   "outputs": [],
   "source": [
    "import math as m"
   ]
  },
  {
   "cell_type": "code",
   "execution_count": null,
   "id": "6fcf219b",
   "metadata": {},
   "outputs": [],
   "source": []
  }
 ],
 "metadata": {
  "kernelspec": {
   "display_name": "Python 3 (ipykernel)",
   "language": "python",
   "name": "python3"
  },
  "language_info": {
   "codemirror_mode": {
    "name": "ipython",
    "version": 3
   },
   "file_extension": ".py",
   "mimetype": "text/x-python",
   "name": "python",
   "nbconvert_exporter": "python",
   "pygments_lexer": "ipython3",
   "version": "3.9.7"
  }
 },
 "nbformat": 4,
 "nbformat_minor": 5
}
