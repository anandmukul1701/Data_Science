{
 "cells": [
  {
   "cell_type": "markdown",
   "id": "5ff6e048",
   "metadata": {},
   "source": [
    "## Find Maximum of two numbers in Python"
   ]
  },
  {
   "cell_type": "markdown",
   "id": "1bc9b179",
   "metadata": {},
   "source": [
    "Given two numbers, write a Python code to find the Maximum of these two numbers.\n",
    "\n",
    "Examples: \n",
    "\n",
    "Input: a = 2, b = 4\n",
    "Output: 4\n",
    "\n",
    "Input: a = -1, b = -4\n",
    "Output: -1"
   ]
  },
  {
   "cell_type": "code",
   "execution_count": 9,
   "id": "7a00091b",
   "metadata": {},
   "outputs": [
    {
     "name": "stdout",
     "output_type": "stream",
     "text": [
      "Enter 1st Number:2\n",
      "Enter 2nd Number:10\n",
      "10.0\n",
      "Max of number 2.0 & 10.0 is 10.0\n"
     ]
    }
   ],
   "source": [
    "a = float(input(\"Enter 1st Number:\"))\n",
    "b = float(input('Enter 2nd Number:'))\n",
    "    \n",
    "def max_of_two(a,b):\n",
    "    if a>b:\n",
    "        return a\n",
    "    return b\n",
    "\n",
    "print(max_of_two(a,b))\n",
    "print(\"Max of number {0} & {1} is {2}\".format(a,b,max_of_two(a,b)))"
   ]
  },
  {
   "cell_type": "markdown",
   "id": "44b22a26",
   "metadata": {},
   "source": [
    "## Python Program to Find the Factorial of a Number"
   ]
  },
  {
   "cell_type": "code",
   "execution_count": 11,
   "id": "fbf32e23",
   "metadata": {},
   "outputs": [
    {
     "name": "stdout",
     "output_type": "stream",
     "text": [
      "Enter a number to get the factorial:5\n",
      "Factorial of 5 is 120\n"
     ]
    }
   ],
   "source": [
    "n = int(input('Enter a number to get the factorial:'))\n",
    "\n",
    "f = 1\n",
    "for i in range(1,n+1):\n",
    "    f*= i\n",
    "\n",
    "print('Factorial of {0} is {1}'.format(n,f))"
   ]
  },
  {
   "cell_type": "code",
   "execution_count": 12,
   "id": "3f9dc17e",
   "metadata": {},
   "outputs": [
    {
     "name": "stdout",
     "output_type": "stream",
     "text": [
      "Enter a number to get the factorial:5\n",
      "Factorial of 5 is 120\n"
     ]
    }
   ],
   "source": [
    "def fact(n):\n",
    "    return 1 if n<= 1 else n*fact(n-1)\n",
    "\n",
    "n = int(input('Enter a number to get the factorial:'))\n",
    "\n",
    "print('Factorial of {0} is {1}'.format(n,fact(n)))"
   ]
  },
  {
   "cell_type": "markdown",
   "id": "155823f1",
   "metadata": {},
   "source": [
    "## Python Program for Simple Interest"
   ]
  },
  {
   "cell_type": "markdown",
   "id": "30c02574",
   "metadata": {},
   "source": [
    "Input : P = 10000\n",
    "        R = 5\n",
    "        T = 5\n",
    "Output :2500.0\n",
    "We need to find simple interest on \n",
    "Rs. 10,000 at the rate of 5% for 5 \n",
    "units of time.\n",
    "Simple Interest = (P x T x R)/100"
   ]
  },
  {
   "cell_type": "code",
   "execution_count": 13,
   "id": "0cca1859",
   "metadata": {},
   "outputs": [
    {
     "name": "stdout",
     "output_type": "stream",
     "text": [
      "Enter Principal:1000\n",
      "Enter Time:2\n",
      "Enter Rate of Interest:10\n"
     ]
    }
   ],
   "source": [
    "P = int(input('Enter Principal:'))\n",
    "T = int(input('Enter Time:'))\n",
    "R = int(input('Enter Rate of Interest:'))\n",
    "\n",
    "SI = (P*T*R)/100\n",
    "print(SI)"
   ]
  },
  {
   "cell_type": "code",
   "execution_count": null,
   "id": "fc0ba203",
   "metadata": {},
   "outputs": [],
   "source": []
  }
 ],
 "metadata": {
  "kernelspec": {
   "display_name": "Python 3 (ipykernel)",
   "language": "python",
   "name": "python3"
  },
  "language_info": {
   "codemirror_mode": {
    "name": "ipython",
    "version": 3
   },
   "file_extension": ".py",
   "mimetype": "text/x-python",
   "name": "python",
   "nbconvert_exporter": "python",
   "pygments_lexer": "ipython3",
   "version": "3.9.7"
  }
 },
 "nbformat": 4,
 "nbformat_minor": 5
}
