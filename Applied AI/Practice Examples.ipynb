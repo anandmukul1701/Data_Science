{
 "cells": [
  {
   "cell_type": "markdown",
   "id": "5ff6e048",
   "metadata": {},
   "source": [
    "## Find Maximum of two numbers in Python"
   ]
  },
  {
   "cell_type": "markdown",
   "id": "1bc9b179",
   "metadata": {},
   "source": [
    "Given two numbers, write a Python code to find the Maximum of these two numbers.\n",
    "\n",
    "Examples: \n",
    "\n",
    "Input: a = 2, b = 4\n",
    "Output: 4\n",
    "\n",
    "Input: a = -1, b = -4\n",
    "Output: -1"
   ]
  },
  {
   "cell_type": "code",
   "execution_count": 9,
   "id": "7a00091b",
   "metadata": {},
   "outputs": [
    {
     "name": "stdout",
     "output_type": "stream",
     "text": [
      "Enter 1st Number:2\n",
      "Enter 2nd Number:10\n",
      "10.0\n",
      "Max of number 2.0 & 10.0 is 10.0\n"
     ]
    }
   ],
   "source": [
    "a = float(input(\"Enter 1st Number:\"))\n",
    "b = float(input('Enter 2nd Number:'))\n",
    "    \n",
    "def max_of_two(a,b):\n",
    "    if a>b:\n",
    "        return a\n",
    "    return b\n",
    "\n",
    "print(max_of_two(a,b))\n",
    "print(\"Max of number {0} & {1} is {2}\".format(a,b,max_of_two(a,b)))"
   ]
  },
  {
   "cell_type": "markdown",
   "id": "44b22a26",
   "metadata": {},
   "source": [
    "## Python Program to Find the Factorial of a Number"
   ]
  },
  {
   "cell_type": "code",
   "execution_count": 11,
   "id": "fbf32e23",
   "metadata": {},
   "outputs": [
    {
     "name": "stdout",
     "output_type": "stream",
     "text": [
      "Enter a number to get the factorial:5\n",
      "Factorial of 5 is 120\n"
     ]
    }
   ],
   "source": [
    "n = int(input('Enter a number to get the factorial:'))\n",
    "\n",
    "f = 1\n",
    "for i in range(1,n+1):\n",
    "    f*= i\n",
    "\n",
    "print('Factorial of {0} is {1}'.format(n,f))"
   ]
  },
  {
   "cell_type": "code",
   "execution_count": 12,
   "id": "3f9dc17e",
   "metadata": {},
   "outputs": [
    {
     "name": "stdout",
     "output_type": "stream",
     "text": [
      "Enter a number to get the factorial:5\n",
      "Factorial of 5 is 120\n"
     ]
    }
   ],
   "source": [
    "def fact(n):\n",
    "    return 1 if n<= 1 else n*fact(n-1)\n",
    "\n",
    "n = int(input('Enter a number to get the factorial:'))\n",
    "\n",
    "print('Factorial of {0} is {1}'.format(n,fact(n)))"
   ]
  },
  {
   "cell_type": "markdown",
   "id": "155823f1",
   "metadata": {},
   "source": [
    "## Python Program for Simple Interest"
   ]
  },
  {
   "cell_type": "markdown",
   "id": "30c02574",
   "metadata": {},
   "source": [
    "Input : P = 10000\n",
    "        R = 5\n",
    "        T = 5\n",
    "Output :2500.0\n",
    "We need to find simple interest on \n",
    "Rs. 10,000 at the rate of 5% for 5 \n",
    "units of time.\n",
    "Simple Interest = (P x T x R)/100"
   ]
  },
  {
   "cell_type": "code",
   "execution_count": 13,
   "id": "0cca1859",
   "metadata": {},
   "outputs": [
    {
     "name": "stdout",
     "output_type": "stream",
     "text": [
      "Enter Principal:1000\n",
      "Enter Time:2\n",
      "Enter Rate of Interest:10\n"
     ]
    }
   ],
   "source": [
    "P = int(input('Enter Principal:'))\n",
    "T = int(input('Enter Time:'))\n",
    "R = int(input('Enter Rate of Interest:'))\n",
    "\n",
    "SI = (P*T*R)/100\n",
    "print(SI)"
   ]
  },
  {
   "cell_type": "markdown",
   "id": "b3c007d9-05e6-4925-817b-870fe31fe4f9",
   "metadata": {},
   "source": [
    "## Question - FizzBuzz\n",
    "\n",
    "This one is a classic and good practice for beginners.\n",
    "\n",
    "Problem description: Given an integer n, return a string array result where:<br>\n",
    "result[i] == “FizzBuzz” if i is divisible by 3 and 5.<br>\n",
    "result[i] == “Fizz” if i is divisible by 3.<br>\n",
    "result[i] == “Buzz” if i is divisible by 5.<br>\n",
    "result[i] == i in any other case.<br>"
   ]
  },
  {
   "cell_type": "code",
   "execution_count": 1,
   "id": "10e504ed-5e3a-4455-9203-d9b71c2ec3f7",
   "metadata": {},
   "outputs": [
    {
     "name": "stdout",
     "output_type": "stream",
     "text": [
      "FizzBuzz(n=3) = ['1', '2', 'Fizz']\n",
      "FizzBuzz(n=5) = ['1', '2', 'Fizz', '4', 'Buzz']\n",
      "FizzBuzz(n=15) = ['1', '2', 'Fizz', '4', 'Buzz', 'Fizz', '7', '8', 'Fizz', 'Buzz', '11', 'Fizz', '13', '14', 'FizzBuzz']\n"
     ]
    }
   ],
   "source": [
    "\n",
    "def fizzbuzz(n: int) -> list:\n",
    "    # To store the results\n",
    "    arr = []\n",
    "    \n",
    "    # Iterate over range (1, n + 1)\n",
    "    for num in range(1, n + 1):\n",
    "        # FizzBuzz check (number divisible by both 3 and 5)\n",
    "        if num % 3 == 0 and num % 5 == 0:\n",
    "            arr.append('FizzBuzz')\n",
    "            continue\n",
    "        # Fizz check (number divisible only by 3)\n",
    "        elif num % 3 == 0:\n",
    "            arr.append('Fizz')\n",
    "            continue\n",
    "        # Buzz check (number divisible only by 5)\n",
    "        elif num % 5 == 0:\n",
    "            arr.append('Buzz')\n",
    "            continue\n",
    "        # Number not divisible by (3 and 5) or 3 or 5\n",
    "        else:\n",
    "            arr.append(str(num))\n",
    "            \n",
    "    return arr\n",
    "\n",
    "\n",
    "# Test - N = (3, 5, 15)\n",
    "for n in [3, 5, 15]:\n",
    "    print(f\"FizzBuzz(n={n}) = {fizzbuzz(n)}\")"
   ]
  },
  {
   "cell_type": "markdown",
   "id": "8af41e7e-5156-41b3-b692-e25b6612768a",
   "metadata": {},
   "source": [
    "## Question - Reverse an Integer\n",
    "\n",
    "Yet another simple programming interview question with a couple of interesting edge cases.\n",
    "\n",
    "Problem description: Given a signed (positive or negative) integer x, return x with its digits reversed. The input integer x must be in range [-2^31, 2^31 - 1] - return 0 if it isn’t. <br>\n",
    "<br>\n",
    "Seems like a simple question, but we have to think about the edge cases. <br>\n",
    "The input number must be in a given range, which is obvious. \n",
    "But what about integers that end with a zero? For example, reversing the number 1200 should result in 21, not 0021."
   ]
  },
  {
   "cell_type": "code",
   "execution_count": 5,
   "id": "e47d35e7-11cd-4514-abad-f1687c9ac647",
   "metadata": {},
   "outputs": [
    {
     "name": "stdin",
     "output_type": "stream",
     "text": [
      "Input the number: 1234\n"
     ]
    },
    {
     "name": "stdout",
     "output_type": "stream",
     "text": [
      "1234\n"
     ]
    },
    {
     "ename": "TypeError",
     "evalue": "'str' object is not callable",
     "output_type": "error",
     "traceback": [
      "\u001b[0;31m---------------------------------------------------------------------------\u001b[0m",
      "\u001b[0;31mTypeError\u001b[0m                                 Traceback (most recent call last)",
      "Cell \u001b[0;32mIn[5], line 20\u001b[0m\n\u001b[1;32m     17\u001b[0m         string\u001b[38;5;241m.\u001b[39mappend(arr[i])\n\u001b[1;32m     18\u001b[0m     \u001b[38;5;28;01mreturn\u001b[39;00m string\n\u001b[0;32m---> 20\u001b[0m \u001b[38;5;28mprint\u001b[39m(\u001b[38;5;28mreversed\u001b[39m(x))\n",
      "Cell \u001b[0;32mIn[5], line 10\u001b[0m, in \u001b[0;36mreversed\u001b[0;34m(num)\u001b[0m\n\u001b[1;32m      8\u001b[0m \u001b[38;5;28;01melse\u001b[39;00m:\n\u001b[1;32m      9\u001b[0m     \u001b[38;5;28mprint\u001b[39m(num)\n\u001b[0;32m---> 10\u001b[0m     \u001b[38;5;28;01mfor\u001b[39;00m i \u001b[38;5;129;01min\u001b[39;00m \u001b[38;5;28mrange\u001b[39m(\u001b[38;5;28mlen\u001b[39m(\u001b[38;5;28mstr\u001b[39m(num))):\n\u001b[1;32m     11\u001b[0m         \u001b[38;5;28mprint\u001b[39m(\u001b[38;5;28mlen\u001b[39m(\u001b[38;5;28mstr\u001b[39m(num)))\n\u001b[1;32m     12\u001b[0m         \u001b[38;5;28mprint\u001b[39m(i)\n",
      "\u001b[0;31mTypeError\u001b[0m: 'str' object is not callable"
     ]
    }
   ],
   "source": [
    "x = int(input('Input the number:'))\n",
    "string = ''\n",
    "arr = []\n",
    "def reversed(num):\n",
    "    if num < -2^31 | num > 2^31 - 1:\n",
    "        print(num)\n",
    "        return 0\n",
    "    else:\n",
    "        print(num)\n",
    "        for i in range(len(str(num))):\n",
    "            print(len(str(num)))\n",
    "            print(i)\n",
    "            print(num%10)\n",
    "            arr.append(num%10)\n",
    "            num = num//10\n",
    "    for i in range(len(arr)):\n",
    "        string.append(arr[i])\n",
    "    return string\n",
    "\n",
    "print(reversed(x))"
   ]
  },
  {
   "cell_type": "code",
   "execution_count": 10,
   "id": "779902b9-e261-4286-8c49-5ef037d5bde1",
   "metadata": {},
   "outputs": [
    {
     "name": "stdin",
     "output_type": "stream",
     "text": [
      "Input the number:  1200\n"
     ]
    },
    {
     "name": "stdout",
     "output_type": "stream",
     "text": [
      "21\n"
     ]
    }
   ],
   "source": [
    "def reverse_number(num):\n",
    "    INT_MIN, INT_MAX = -2**31, 2**31 - 1  # Define 32-bit signed integer range\n",
    "\n",
    "    # Determine the sign of the number\n",
    "    sign = -1 if num < 0 else 1\n",
    "    num *= sign  # Work with positive version of num for reversal\n",
    "\n",
    "    reversed_num = 0\n",
    "    while num != 0:\n",
    "        pop = num % 10  # Pop the last digit\n",
    "        num //= 10  # Reduce num by removing the last digit\n",
    "\n",
    "        # Check for overflow and underflow\n",
    "        if (reversed_num > INT_MAX // 10) or (reversed_num == INT_MAX // 10 and pop > 7):\n",
    "            return 0  # Return 0 for overflow\n",
    "        if (reversed_num < INT_MIN // 10) or (reversed_num == INT_MIN // 10 and pop < -8):\n",
    "            return 0  # Return 0 for underflow\n",
    "\n",
    "        reversed_num = reversed_num * 10 + pop  # Push the digit to the new number\n",
    "\n",
    "    return sign * reversed_num  # Apply the original sign and return\n",
    "\n",
    "# Take an integer input from the user\n",
    "x = int(input('Input the number: '))\n",
    "print(reverse_number(x))  # Print the reversed number\n"
   ]
  },
  {
   "cell_type": "code",
   "execution_count": 8,
   "id": "b4b713b0-9de8-479f-8be7-d6f8ce74d887",
   "metadata": {},
   "outputs": [
    {
     "name": "stdout",
     "output_type": "stream",
     "text": [
      "Index: 0\n",
      "Index: 3\n",
      "Index: -1\n"
     ]
    }
   ],
   "source": [
    "def first_unique_character(s: str) -> int:\n",
    "    # Lowercase\n",
    "    s = s.lower()\n",
    "    \n",
    "    # Dictionary storing individual letters and their counts\n",
    "    counts = {}\n",
    "    \n",
    "    # For every letter in the string\n",
    "    for letter in s:\n",
    "        # If letter not in dictionary, add it and set the count to 1\n",
    "        if letter not in counts:\n",
    "            counts[letter] = 1\n",
    "        # If letter in dictionary, add 1 to the count\n",
    "        else:\n",
    "            counts[letter] += 1\n",
    "            \n",
    "    # For the range of string length\n",
    "    for i in range(len(s)):\n",
    "        # If there's only one letter\n",
    "        if counts[s[i]] == 1:\n",
    "            # Return the index position\n",
    "            return i\n",
    "    \n",
    "    # No first unique character\n",
    "    return -1\n",
    "\n",
    "\n",
    "# Test cases\n",
    "for s in ['Appsilon', 'Appsilon Poland', 'abcabc']:\n",
    "    print(f\"Index: {first_unique_character(s=s)}\")"
   ]
  },
  {
   "cell_type": "code",
   "execution_count": 17,
   "id": "732a5a94-1a3d-4504-8709-65fb882b0bf7",
   "metadata": {},
   "outputs": [
    {
     "name": "stdin",
     "output_type": "stream",
     "text": [
      "Enter a string: \"\"\n"
     ]
    },
    {
     "data": {
      "text/plain": [
       "True"
      ]
     },
     "execution_count": 17,
     "metadata": {},
     "output_type": "execute_result"
    }
   ],
   "source": [
    "x = input('Enter a string:')\n",
    "\n",
    "def is_palindrome(x):\n",
    "    if len(x) == 0:\n",
    "        return True\n",
    "    elif len(x) == 1:\n",
    "        return True\n",
    "    else:\n",
    "        return x[0] == x[-1] and is_palindrome(x[1:-1])\n",
    "\n",
    "is_palindrome(x)"
   ]
  },
  {
   "cell_type": "code",
   "execution_count": null,
   "id": "2fe7406e-434e-4206-81f2-4ed29649e908",
   "metadata": {},
   "outputs": [],
   "source": []
  }
 ],
 "metadata": {
  "kernelspec": {
   "display_name": "Python 3 (ipykernel)",
   "language": "python",
   "name": "python3"
  },
  "language_info": {
   "codemirror_mode": {
    "name": "ipython",
    "version": 3
   },
   "file_extension": ".py",
   "mimetype": "text/x-python",
   "name": "python",
   "nbconvert_exporter": "python",
   "pygments_lexer": "ipython3",
   "version": "3.11.0"
  }
 },
 "nbformat": 4,
 "nbformat_minor": 5
}
